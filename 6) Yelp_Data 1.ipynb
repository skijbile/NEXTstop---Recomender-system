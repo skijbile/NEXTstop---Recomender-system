{
 "cells": [
  {
   "cell_type": "markdown",
   "id": "90ed495c-3336-40e6-9284-77e083f7ee7b",
   "metadata": {},
   "source": [
    "##### Here the yelp json data is loaded that is places of interest for the venues from ticket master API and parsed and saved into  Yelp_data_1.csv\n",
    "\n",
    "##### The Yelp_get_data.ipynb calls the API to get the json information required."
   ]
  },
  {
   "cell_type": "code",
   "execution_count": 53,
   "id": "8c89b896-c04f-4f64-a622-7e7d46e9a536",
   "metadata": {},
   "outputs": [],
   "source": [
    "import pandas as pd\n",
    "import json\n",
    "from get_data_API import get_reviews\n",
    "import os\n",
    "Yelp_key=os.getenv('Yelp_API(MR)')"
   ]
  },
  {
   "cell_type": "code",
   "execution_count": 2,
   "id": "ae33aeb2-b368-4858-8eb1-8a0c9542bf70",
   "metadata": {},
   "outputs": [],
   "source": [
    "with open('yelp.json','r') as f:\n",
    "    yelp_data_1=json.load(f)"
   ]
  },
  {
   "cell_type": "code",
   "execution_count": 4,
   "id": "406e6352-8690-49fa-aa79-25f693dab63b",
   "metadata": {},
   "outputs": [
    {
     "data": {
      "text/plain": [
       "'\\ndata needed from the json\\nid\\nname\\nrating\\nprice\\ndistance\\nlocation-display_Address\\ncoordinates-latitude,longitude\\n\\n'"
      ]
     },
     "execution_count": 4,
     "metadata": {},
     "output_type": "execute_result"
    }
   ],
   "source": [
    "\"\"\"\n",
    "data needed from the json\n",
    "id\n",
    "name\n",
    "rating\n",
    "price\n",
    "categories-[0]title\n",
    "distance\n",
    "location-display_Address,city,state\n",
    "coordinates-latitude,longitude\n",
    "\n",
    "\"\"\""
   ]
  },
  {
   "cell_type": "code",
   "execution_count": 10,
   "id": "d9859e51-4e15-41da-9049-977ffc45e285",
   "metadata": {},
   "outputs": [],
   "source": [
    "# create empty lists \n",
    "ID=[]\n",
    "Name=[]\n",
    "Ratings=[]\n",
    "Pricing=[]\n",
    "Category=[]\n",
    "Distances=[]\n",
    "Address=[]\n",
    "City=[]\n",
    "State=[]\n",
    "Latitude=[]\n",
    "Longitude=[]"
   ]
  },
  {
   "cell_type": "code",
   "execution_count": 11,
   "id": "05cf51fa-25b9-4535-8e06-9757dc54228d",
   "metadata": {},
   "outputs": [],
   "source": [
    "for data in yelp_data_1:\n",
    "    id=data['id']\n",
    "    name=data['name']\n",
    "    rating=data['rating']\n",
    "    prices=data.get('price', 'Information not available')\n",
    "    distance=data['distance']\n",
    "    category=data['categories'][0]['title']\n",
    "    location=data['location']['address1']\n",
    "    city=data['location']['city']\n",
    "    state=data['location']['state']\n",
    "    latitude=data['coordinates']['latitude']\n",
    "    longitude=data['coordinates']['longitude']\n",
    "\n",
    "    ID.append(id)\n",
    "    Name.append(name)\n",
    "    Ratings.append(rating)\n",
    "    Pricing.append(prices)\n",
    "    Category.append(category)\n",
    "    Distances.append(distance)\n",
    "    Address.append(location)\n",
    "    City.append(city)\n",
    "    State.append(state)\n",
    "    Latitude.append(latitude)\n",
    "    Longitude.append(longitude)\n",
    "    "
   ]
  },
  {
   "cell_type": "code",
   "execution_count": 12,
   "id": "f66f2cd1-25b7-4413-b7d4-95157a7ecf7c",
   "metadata": {},
   "outputs": [],
   "source": [
    "data_dict={'Business ID': ID,\n",
    "          'Name': Name,\n",
    "          'Ratings': Ratings,\n",
    "          'Pricing': Pricing,\n",
    "          'Category':Category,\n",
    "          'Distance_From_Venue':Distances,\n",
    "          'Address': Address,\n",
    "          'City':City,\n",
    "          'State':State,\n",
    "          'Latitude':Latitude,\n",
    "          'Longitude': Longitude\n",
    "          }"
   ]
  },
  {
   "cell_type": "code",
   "execution_count": 13,
   "id": "dc5cd582-13ef-4a51-9953-8512c3a64ab6",
   "metadata": {},
   "outputs": [
    {
     "name": "stdout",
     "output_type": "stream",
     "text": [
      "{'Business ID': 4764, 'Name': 4764, 'Ratings': 4764, 'Pricing': 4764, 'Category': 4764, 'Distance_From_Venue': 4764, 'Address': 4764, 'City': 4764, 'State': 4764, 'Latitude': 4764, 'Longitude': 4764}\n"
     ]
    }
   ],
   "source": [
    "# Check lengths of all lists or arrays in the data_dict\n",
    "lengths = {key: len(value) for key, value in data_dict.items()}\n",
    "print(lengths)"
   ]
  },
  {
   "cell_type": "code",
   "execution_count": 14,
   "id": "efaeaef3-22f4-4fe2-a45d-f708fb5bc0a6",
   "metadata": {},
   "outputs": [],
   "source": [
    "# Create Data frame\n",
    "\n",
    "yelp_df_1=pd.DataFrame(data=data_dict)\n"
   ]
  },
  {
   "cell_type": "code",
   "execution_count": 20,
   "id": "f666fcff-83df-4b08-8134-7f9d18e036c1",
   "metadata": {},
   "outputs": [
    {
     "data": {
      "text/plain": [
       "(4764, 11)"
      ]
     },
     "execution_count": 20,
     "metadata": {},
     "output_type": "execute_result"
    }
   ],
   "source": [
    "yelp_df_1.shape\n",
    "              "
   ]
  },
  {
   "cell_type": "code",
   "execution_count": 21,
   "id": "591bb44b-81c7-4c8d-b133-dccd1c807526",
   "metadata": {},
   "outputs": [
    {
     "data": {
      "text/html": [
       "<div>\n",
       "<style scoped>\n",
       "    .dataframe tbody tr th:only-of-type {\n",
       "        vertical-align: middle;\n",
       "    }\n",
       "\n",
       "    .dataframe tbody tr th {\n",
       "        vertical-align: top;\n",
       "    }\n",
       "\n",
       "    .dataframe thead th {\n",
       "        text-align: right;\n",
       "    }\n",
       "</style>\n",
       "<table border=\"1\" class=\"dataframe\">\n",
       "  <thead>\n",
       "    <tr style=\"text-align: right;\">\n",
       "      <th></th>\n",
       "      <th>Business ID</th>\n",
       "      <th>Name</th>\n",
       "      <th>Ratings</th>\n",
       "      <th>Pricing</th>\n",
       "      <th>Category</th>\n",
       "      <th>Distance_From_Venue</th>\n",
       "      <th>Address</th>\n",
       "      <th>City</th>\n",
       "      <th>State</th>\n",
       "      <th>Latitude</th>\n",
       "      <th>Longitude</th>\n",
       "    </tr>\n",
       "  </thead>\n",
       "  <tbody>\n",
       "    <tr>\n",
       "      <th>0</th>\n",
       "      <td>-tlUatScbE-dGR-GB2sy7Q</td>\n",
       "      <td>Latinoamerica Unida</td>\n",
       "      <td>4.5</td>\n",
       "      <td>$$</td>\n",
       "      <td>Mexican</td>\n",
       "      <td>289.424219</td>\n",
       "      <td>18 Concession Street</td>\n",
       "      <td>Cambridge</td>\n",
       "      <td>ON</td>\n",
       "      <td>43.353800</td>\n",
       "      <td>-80.314570</td>\n",
       "    </tr>\n",
       "    <tr>\n",
       "      <th>1</th>\n",
       "      <td>YI8t-hPHI79W4G36oWP05Q</td>\n",
       "      <td>Monigram Coffee Roasters</td>\n",
       "      <td>4.8</td>\n",
       "      <td>$</td>\n",
       "      <td>Coffee &amp; Tea</td>\n",
       "      <td>775.115965</td>\n",
       "      <td>16 Ainslie Street S</td>\n",
       "      <td>Cambridge</td>\n",
       "      <td>ON</td>\n",
       "      <td>43.358217</td>\n",
       "      <td>-80.314118</td>\n",
       "    </tr>\n",
       "    <tr>\n",
       "      <th>2</th>\n",
       "      <td>0Qh0SJjaiMTDf2-_k_fWVg</td>\n",
       "      <td>Red Basil Vietnamese Restaurant</td>\n",
       "      <td>4.1</td>\n",
       "      <td>$$</td>\n",
       "      <td>Vietnamese</td>\n",
       "      <td>839.357645</td>\n",
       "      <td>61 Main Street</td>\n",
       "      <td>Cambridge</td>\n",
       "      <td>ON</td>\n",
       "      <td>43.358760</td>\n",
       "      <td>-80.314000</td>\n",
       "    </tr>\n",
       "    <tr>\n",
       "      <th>3</th>\n",
       "      <td>m5qY9xHr1de8EpgqybBqDQ</td>\n",
       "      <td>Hungry Ninja</td>\n",
       "      <td>4.5</td>\n",
       "      <td>$$</td>\n",
       "      <td>Japanese</td>\n",
       "      <td>906.830416</td>\n",
       "      <td>5 Water St N</td>\n",
       "      <td>Cambridge</td>\n",
       "      <td>ON</td>\n",
       "      <td>43.359304</td>\n",
       "      <td>-80.315182</td>\n",
       "    </tr>\n",
       "    <tr>\n",
       "      <th>4</th>\n",
       "      <td>tkEHtf5jmqF3-uE2n7iJTA</td>\n",
       "      <td>Bombay Sizzler</td>\n",
       "      <td>3.9</td>\n",
       "      <td>$$</td>\n",
       "      <td>Indian</td>\n",
       "      <td>848.269779</td>\n",
       "      <td>110 Main Street</td>\n",
       "      <td>Cambridge</td>\n",
       "      <td>ON</td>\n",
       "      <td>43.359169</td>\n",
       "      <td>-80.312424</td>\n",
       "    </tr>\n",
       "    <tr>\n",
       "      <th>...</th>\n",
       "      <td>...</td>\n",
       "      <td>...</td>\n",
       "      <td>...</td>\n",
       "      <td>...</td>\n",
       "      <td>...</td>\n",
       "      <td>...</td>\n",
       "      <td>...</td>\n",
       "      <td>...</td>\n",
       "      <td>...</td>\n",
       "      <td>...</td>\n",
       "      <td>...</td>\n",
       "    </tr>\n",
       "    <tr>\n",
       "      <th>4759</th>\n",
       "      <td>_-e53B64fV01b3nvWu7QbQ</td>\n",
       "      <td>My Kitty Cafe</td>\n",
       "      <td>3.9</td>\n",
       "      <td>$</td>\n",
       "      <td>Pet Adoption</td>\n",
       "      <td>259.322820</td>\n",
       "      <td>117 Wyndham Street N</td>\n",
       "      <td>Guelph</td>\n",
       "      <td>ON</td>\n",
       "      <td>43.546971</td>\n",
       "      <td>-80.249874</td>\n",
       "    </tr>\n",
       "    <tr>\n",
       "      <th>4760</th>\n",
       "      <td>N4X7xBvBxs1B_45dZnmgsw</td>\n",
       "      <td>Diana Downtown</td>\n",
       "      <td>3.6</td>\n",
       "      <td>Information not available</td>\n",
       "      <td>Indian</td>\n",
       "      <td>292.570439</td>\n",
       "      <td>141 Wyndham Street N</td>\n",
       "      <td>Guelph</td>\n",
       "      <td>ON</td>\n",
       "      <td>43.547540</td>\n",
       "      <td>-80.250330</td>\n",
       "    </tr>\n",
       "    <tr>\n",
       "      <th>4761</th>\n",
       "      <td>2yrrqV7abJnj9sJHy-lGDw</td>\n",
       "      <td>Hungry Ninja</td>\n",
       "      <td>3.4</td>\n",
       "      <td>$$</td>\n",
       "      <td>Japanese</td>\n",
       "      <td>278.233044</td>\n",
       "      <td>134 Wyndham St N</td>\n",
       "      <td>Guelph</td>\n",
       "      <td>ON</td>\n",
       "      <td>43.546961</td>\n",
       "      <td>-80.250109</td>\n",
       "    </tr>\n",
       "    <tr>\n",
       "      <th>4762</th>\n",
       "      <td>fKKwYA5aPGRgRTyQJuu0mw</td>\n",
       "      <td>Taste With Andy</td>\n",
       "      <td>5.0</td>\n",
       "      <td>Information not available</td>\n",
       "      <td>Thai</td>\n",
       "      <td>304.377672</td>\n",
       "      <td>45 Cork Street E</td>\n",
       "      <td>Guelph</td>\n",
       "      <td>ON</td>\n",
       "      <td>43.545082</td>\n",
       "      <td>-80.249263</td>\n",
       "    </tr>\n",
       "    <tr>\n",
       "      <th>4763</th>\n",
       "      <td>0n33W6oTCTq-2eYKABtpHw</td>\n",
       "      <td>Retour Bistro</td>\n",
       "      <td>5.0</td>\n",
       "      <td>Information not available</td>\n",
       "      <td>Bistros</td>\n",
       "      <td>275.794026</td>\n",
       "      <td>150 Wellington Street E</td>\n",
       "      <td>Guelph</td>\n",
       "      <td>ON</td>\n",
       "      <td>43.546130</td>\n",
       "      <td>-80.243490</td>\n",
       "    </tr>\n",
       "  </tbody>\n",
       "</table>\n",
       "<p>4484 rows × 11 columns</p>\n",
       "</div>"
      ],
      "text/plain": [
       "                 Business ID                             Name  Ratings  \\\n",
       "0     -tlUatScbE-dGR-GB2sy7Q              Latinoamerica Unida      4.5   \n",
       "1     YI8t-hPHI79W4G36oWP05Q         Monigram Coffee Roasters      4.8   \n",
       "2     0Qh0SJjaiMTDf2-_k_fWVg  Red Basil Vietnamese Restaurant      4.1   \n",
       "3     m5qY9xHr1de8EpgqybBqDQ                     Hungry Ninja      4.5   \n",
       "4     tkEHtf5jmqF3-uE2n7iJTA                   Bombay Sizzler      3.9   \n",
       "...                      ...                              ...      ...   \n",
       "4759  _-e53B64fV01b3nvWu7QbQ                    My Kitty Cafe      3.9   \n",
       "4760  N4X7xBvBxs1B_45dZnmgsw                   Diana Downtown      3.6   \n",
       "4761  2yrrqV7abJnj9sJHy-lGDw                     Hungry Ninja      3.4   \n",
       "4762  fKKwYA5aPGRgRTyQJuu0mw                  Taste With Andy      5.0   \n",
       "4763  0n33W6oTCTq-2eYKABtpHw                    Retour Bistro      5.0   \n",
       "\n",
       "                        Pricing      Category  Distance_From_Venue  \\\n",
       "0                            $$       Mexican           289.424219   \n",
       "1                             $  Coffee & Tea           775.115965   \n",
       "2                            $$    Vietnamese           839.357645   \n",
       "3                            $$      Japanese           906.830416   \n",
       "4                            $$        Indian           848.269779   \n",
       "...                         ...           ...                  ...   \n",
       "4759                          $  Pet Adoption           259.322820   \n",
       "4760  Information not available        Indian           292.570439   \n",
       "4761                         $$      Japanese           278.233044   \n",
       "4762  Information not available          Thai           304.377672   \n",
       "4763  Information not available       Bistros           275.794026   \n",
       "\n",
       "                      Address       City State   Latitude  Longitude  \n",
       "0        18 Concession Street  Cambridge    ON  43.353800 -80.314570  \n",
       "1         16 Ainslie Street S  Cambridge    ON  43.358217 -80.314118  \n",
       "2              61 Main Street  Cambridge    ON  43.358760 -80.314000  \n",
       "3                5 Water St N  Cambridge    ON  43.359304 -80.315182  \n",
       "4             110 Main Street  Cambridge    ON  43.359169 -80.312424  \n",
       "...                       ...        ...   ...        ...        ...  \n",
       "4759     117 Wyndham Street N     Guelph    ON  43.546971 -80.249874  \n",
       "4760     141 Wyndham Street N     Guelph    ON  43.547540 -80.250330  \n",
       "4761         134 Wyndham St N     Guelph    ON  43.546961 -80.250109  \n",
       "4762         45 Cork Street E     Guelph    ON  43.545082 -80.249263  \n",
       "4763  150 Wellington Street E     Guelph    ON  43.546130 -80.243490  \n",
       "\n",
       "[4484 rows x 11 columns]"
      ]
     },
     "execution_count": 21,
     "metadata": {},
     "output_type": "execute_result"
    }
   ],
   "source": [
    "yelp_df_1.drop_duplicates() # need to change ville de quebec to quebec"
   ]
  },
  {
   "cell_type": "code",
   "execution_count": 22,
   "id": "e9913ba7-8445-4020-bb9c-b5e1be3740c2",
   "metadata": {},
   "outputs": [],
   "source": [
    "# store data frame to csv\n",
    "yelp_df_1.to_csv('Yelp_data_1.csv',index=False)"
   ]
  },
  {
   "cell_type": "code",
   "execution_count": 19,
   "id": "2e00d4ee-db44-449e-861c-7ac18bea0e4a",
   "metadata": {},
   "outputs": [],
   "source": [
    "yelp_df_1=pd.read_csv('Yelp_data_1.csv')"
   ]
  },
  {
   "cell_type": "code",
   "execution_count": 20,
   "id": "6a225227-a762-4203-8eb7-4fef5bf90857",
   "metadata": {},
   "outputs": [
    {
     "data": {
      "text/plain": [
       "105"
      ]
     },
     "execution_count": 20,
     "metadata": {},
     "output_type": "execute_result"
    }
   ],
   "source": [
    "yelp_df_1['City'].nunique()#.tolist()"
   ]
  },
  {
   "cell_type": "code",
   "execution_count": 21,
   "id": "4553d373-d3d7-42a1-9ecd-cc3e6303c530",
   "metadata": {},
   "outputs": [],
   "source": [
    "# create a mapping dict to change doubles\n",
    "mapping_dict={'Ville de Québec':'Quebec City',\n",
    "              'Québec City':'Quebec City',\n",
    "              'toronto':'Toronto',\n",
    "              'Trois-Rivières':'Trois-Rivieres',\n",
    "              'Sault Sainte Marie':'Sault Ste. Marie',\n",
    "              'Sault Ste Marie':'Sault Ste. Marie',\n",
    "              \"St. John's\":\"St Johns'\",\n",
    "              \"St John's\":\"St Johns'\",\n",
    "              \"Saint John's\":\"St Johns'\",\n",
    "              \"Saint Catharines\":'St.Catharines',\n",
    "              'St Catharines':'St.Catharines',\n",
    "              'St. Catharines':'St.Catharines',              \n",
    "              'Greater Sudbury':'Sudbury',\n",
    "              'OTTAWA':'Ottawa'          \n",
    "             }"
   ]
  },
  {
   "cell_type": "code",
   "execution_count": 22,
   "id": "9cb4dde8-f667-463f-86f3-9c3da03fcec0",
   "metadata": {},
   "outputs": [],
   "source": [
    "yelp_df_1['City']=yelp_df_1['City'].replace(mapping_dict)"
   ]
  },
  {
   "cell_type": "code",
   "execution_count": 23,
   "id": "0273cb41-7cea-44a9-9469-2ee83c6d96b5",
   "metadata": {},
   "outputs": [
    {
     "data": {
      "text/plain": [
       "93"
      ]
     },
     "execution_count": 23,
     "metadata": {},
     "output_type": "execute_result"
    }
   ],
   "source": [
    "yelp_df_1['City'].nunique()"
   ]
  },
  {
   "cell_type": "markdown",
   "id": "962df519-2bed-4601-8f62-ae5ebf38379b",
   "metadata": {},
   "source": [
    "#### Use the business Id from above to get more data for reviews and ratings from the get_reviews function"
   ]
  },
  {
   "cell_type": "code",
   "execution_count": 62,
   "id": "22b6616c-da32-4aa4-a2b0-4a90f1efccd9",
   "metadata": {
    "scrolled": true
   },
   "outputs": [
    {
     "name": "stdout",
     "output_type": "stream",
     "text": [
      "0\n",
      "50\n",
      "100\n",
      "150\n",
      "200\n",
      "250\n",
      "300\n",
      "350\n",
      "400\n",
      "450\n",
      "Stopped at=  464\n",
      "Error: 429, {\"error\": {\"code\": \"ACCESS_LIMIT_REACHED\", \"description\": \"You've reached the access limit for this client. See instructions for requesting a higher access limit at https://docs.developer.yelp.com/docs/fusion-rate-limiting\"}}\n",
      "Stopped at=  465\n",
      "Error: 429, {\"error\": {\"code\": \"ACCESS_LIMIT_REACHED\", \"description\": \"You've reached the access limit for this client. See instructions for requesting a higher access limit at https://docs.developer.yelp.com/docs/fusion-rate-limiting\"}}\n",
      "Stopped at=  466\n",
      "Error: 429, {\"error\": {\"code\": \"ACCESS_LIMIT_REACHED\", \"description\": \"You've reached the access limit for this client. See instructions for requesting a higher access limit at https://docs.developer.yelp.com/docs/fusion-rate-limiting\"}}\n",
      "Stopped at=  467\n",
      "Error: 429, {\"error\": {\"code\": \"ACCESS_LIMIT_REACHED\", \"description\": \"You've reached the access limit for this client. See instructions for requesting a higher access limit at https://docs.developer.yelp.com/docs/fusion-rate-limiting\"}}\n",
      "Stopped at=  468\n",
      "Error: 429, {\"error\": {\"code\": \"ACCESS_LIMIT_REACHED\", \"description\": \"You've reached the access limit for this client. See instructions for requesting a higher access limit at https://docs.developer.yelp.com/docs/fusion-rate-limiting\"}}\n",
      "Stopped at=  469\n",
      "Error: 429, {\"error\": {\"code\": \"ACCESS_LIMIT_REACHED\", \"description\": \"You've reached the access limit for this client. See instructions for requesting a higher access limit at https://docs.developer.yelp.com/docs/fusion-rate-limiting\"}}\n",
      "Stopped at=  470\n",
      "Error: 429, {\"error\": {\"code\": \"ACCESS_LIMIT_REACHED\", \"description\": \"You've reached the access limit for this client. See instructions for requesting a higher access limit at https://docs.developer.yelp.com/docs/fusion-rate-limiting\"}}\n",
      "Stopped at=  471\n",
      "Error: 429, {\"error\": {\"code\": \"ACCESS_LIMIT_REACHED\", \"description\": \"You've reached the access limit for this client. See instructions for requesting a higher access limit at https://docs.developer.yelp.com/docs/fusion-rate-limiting\"}}\n",
      "Stopped at=  472\n",
      "Error: 429, {\"error\": {\"code\": \"ACCESS_LIMIT_REACHED\", \"description\": \"You've reached the access limit for this client. See instructions for requesting a higher access limit at https://docs.developer.yelp.com/docs/fusion-rate-limiting\"}}\n",
      "Stopped at=  473\n",
      "Error: 429, {\"error\": {\"code\": \"ACCESS_LIMIT_REACHED\", \"description\": \"You've reached the access limit for this client. See instructions for requesting a higher access limit at https://docs.developer.yelp.com/docs/fusion-rate-limiting\"}}\n",
      "Stopped at=  474\n",
      "Error: 429, {\"error\": {\"code\": \"ACCESS_LIMIT_REACHED\", \"description\": \"You've reached the access limit for this client. See instructions for requesting a higher access limit at https://docs.developer.yelp.com/docs/fusion-rate-limiting\"}}\n",
      "Stopped at=  475\n",
      "Error: 429, {\"error\": {\"code\": \"ACCESS_LIMIT_REACHED\", \"description\": \"You've reached the access limit for this client. See instructions for requesting a higher access limit at https://docs.developer.yelp.com/docs/fusion-rate-limiting\"}}\n",
      "Stopped at=  476\n",
      "Error: 429, {\"error\": {\"code\": \"ACCESS_LIMIT_REACHED\", \"description\": \"You've reached the access limit for this client. See instructions for requesting a higher access limit at https://docs.developer.yelp.com/docs/fusion-rate-limiting\"}}\n",
      "Stopped at=  477\n",
      "Error: 429, {\"error\": {\"code\": \"ACCESS_LIMIT_REACHED\", \"description\": \"You've reached the access limit for this client. See instructions for requesting a higher access limit at https://docs.developer.yelp.com/docs/fusion-rate-limiting\"}}\n",
      "Stopped at=  478\n",
      "Error: 429, {\"error\": {\"code\": \"ACCESS_LIMIT_REACHED\", \"description\": \"You've reached the access limit for this client. See instructions for requesting a higher access limit at https://docs.developer.yelp.com/docs/fusion-rate-limiting\"}}\n",
      "Stopped at=  479\n",
      "Error: 429, {\"error\": {\"code\": \"ACCESS_LIMIT_REACHED\", \"description\": \"You've reached the access limit for this client. See instructions for requesting a higher access limit at https://docs.developer.yelp.com/docs/fusion-rate-limiting\"}}\n",
      "Stopped at=  480\n",
      "Error: 429, {\"error\": {\"code\": \"ACCESS_LIMIT_REACHED\", \"description\": \"You've reached the access limit for this client. See instructions for requesting a higher access limit at https://docs.developer.yelp.com/docs/fusion-rate-limiting\"}}\n",
      "Stopped at=  481\n",
      "Error: 429, {\"error\": {\"code\": \"ACCESS_LIMIT_REACHED\", \"description\": \"You've reached the access limit for this client. See instructions for requesting a higher access limit at https://docs.developer.yelp.com/docs/fusion-rate-limiting\"}}\n",
      "Stopped at=  482\n",
      "Error: 429, {\"error\": {\"code\": \"ACCESS_LIMIT_REACHED\", \"description\": \"You've reached the access limit for this client. See instructions for requesting a higher access limit at https://docs.developer.yelp.com/docs/fusion-rate-limiting\"}}\n",
      "Stopped at=  483\n",
      "Error: 429, {\"error\": {\"code\": \"ACCESS_LIMIT_REACHED\", \"description\": \"You've reached the access limit for this client. See instructions for requesting a higher access limit at https://docs.developer.yelp.com/docs/fusion-rate-limiting\"}}\n",
      "Stopped at=  484\n",
      "Error: 429, {\"error\": {\"code\": \"ACCESS_LIMIT_REACHED\", \"description\": \"You've reached the access limit for this client. See instructions for requesting a higher access limit at https://docs.developer.yelp.com/docs/fusion-rate-limiting\"}}\n",
      "Stopped at=  485\n",
      "Error: 429, {\"error\": {\"code\": \"ACCESS_LIMIT_REACHED\", \"description\": \"You've reached the access limit for this client. See instructions for requesting a higher access limit at https://docs.developer.yelp.com/docs/fusion-rate-limiting\"}}\n",
      "Stopped at=  486\n",
      "Error: 429, {\"error\": {\"code\": \"ACCESS_LIMIT_REACHED\", \"description\": \"You've reached the access limit for this client. See instructions for requesting a higher access limit at https://docs.developer.yelp.com/docs/fusion-rate-limiting\"}}\n",
      "Stopped at=  487\n",
      "Error: 429, {\"error\": {\"code\": \"ACCESS_LIMIT_REACHED\", \"description\": \"You've reached the access limit for this client. See instructions for requesting a higher access limit at https://docs.developer.yelp.com/docs/fusion-rate-limiting\"}}\n",
      "Stopped at=  488\n",
      "Error: 429, {\"error\": {\"code\": \"ACCESS_LIMIT_REACHED\", \"description\": \"You've reached the access limit for this client. See instructions for requesting a higher access limit at https://docs.developer.yelp.com/docs/fusion-rate-limiting\"}}\n",
      "Stopped at=  489\n",
      "Error: 429, {\"error\": {\"code\": \"ACCESS_LIMIT_REACHED\", \"description\": \"You've reached the access limit for this client. See instructions for requesting a higher access limit at https://docs.developer.yelp.com/docs/fusion-rate-limiting\"}}\n",
      "Stopped at=  490\n",
      "Error: 429, {\"error\": {\"code\": \"ACCESS_LIMIT_REACHED\", \"description\": \"You've reached the access limit for this client. See instructions for requesting a higher access limit at https://docs.developer.yelp.com/docs/fusion-rate-limiting\"}}\n"
     ]
    },
    {
     "ename": "KeyboardInterrupt",
     "evalue": "",
     "output_type": "error",
     "traceback": [
      "\u001b[1;31m---------------------------------------------------------------------------\u001b[0m",
      "\u001b[1;31mKeyboardInterrupt\u001b[0m                         Traceback (most recent call last)",
      "Cell \u001b[1;32mIn[62], line 11\u001b[0m\n\u001b[0;32m      8\u001b[0m \u001b[38;5;28;01mfor\u001b[39;00m index, row \u001b[38;5;129;01min\u001b[39;00m yelp_df_1\u001b[38;5;241m.\u001b[39miterrows():\n\u001b[0;32m      9\u001b[0m     \u001b[38;5;28mid\u001b[39m\u001b[38;5;241m=\u001b[39mrow[\u001b[38;5;124m'\u001b[39m\u001b[38;5;124mBusiness ID\u001b[39m\u001b[38;5;124m'\u001b[39m]\n\u001b[1;32m---> 11\u001b[0m     res_review\u001b[38;5;241m=\u001b[39mget_reviews(\u001b[38;5;28mid\u001b[39m,Yelp_key)\n\u001b[0;32m     12\u001b[0m     res_review\u001b[38;5;241m.\u001b[39mstatus_code\n\u001b[0;32m     13\u001b[0m     \u001b[38;5;28;01mif\u001b[39;00m index\u001b[38;5;241m%\u001b[39m\u001b[38;5;241m50\u001b[39m\u001b[38;5;241m==\u001b[39m\u001b[38;5;241m0\u001b[39m:\n",
      "File \u001b[1;32m~\\Documents\\light house labs\\PROJECTS\\Final Project\\Whats-Next-to-do---Recomender-system\\NoteBooks\\get_data_API.py:199\u001b[0m, in \u001b[0;36mget_reviews\u001b[1;34m(id, API_key)\u001b[0m\n\u001b[0;32m    189\u001b[0m params \u001b[38;5;241m=\u001b[39m {\n\u001b[0;32m    190\u001b[0m     \u001b[38;5;124m'\u001b[39m\u001b[38;5;124mbusiness_id_or_alias\u001b[39m\u001b[38;5;124m'\u001b[39m:\u001b[38;5;28mid\u001b[39m,\n\u001b[0;32m    191\u001b[0m     \u001b[38;5;124m'\u001b[39m\u001b[38;5;124mlimit\u001b[39m\u001b[38;5;124m'\u001b[39m:\u001b[38;5;241m20\u001b[39m,\n\u001b[0;32m    192\u001b[0m     \u001b[38;5;124m'\u001b[39m\u001b[38;5;124msort_by\u001b[39m\u001b[38;5;124m'\u001b[39m:\u001b[38;5;124m'\u001b[39m\u001b[38;5;124mnewest\u001b[39m\u001b[38;5;124m'\u001b[39m\n\u001b[0;32m    193\u001b[0m     \n\u001b[0;32m    194\u001b[0m         }\n\u001b[0;32m    195\u001b[0m headers \u001b[38;5;241m=\u001b[39m {\n\u001b[0;32m    196\u001b[0m     \u001b[38;5;124m\"\u001b[39m\u001b[38;5;124mAccept\u001b[39m\u001b[38;5;124m\"\u001b[39m: \u001b[38;5;124m\"\u001b[39m\u001b[38;5;124mapplication/json\u001b[39m\u001b[38;5;124m\"\u001b[39m,\n\u001b[0;32m    197\u001b[0m     \u001b[38;5;124m\"\u001b[39m\u001b[38;5;124mAuthorization\u001b[39m\u001b[38;5;124m\"\u001b[39m: \u001b[38;5;124m\"\u001b[39m\u001b[38;5;124mBearer \u001b[39m\u001b[38;5;124m\"\u001b[39m\u001b[38;5;241m+\u001b[39m API_key \u001b[38;5;66;03m#need Bearer as a part of the string\u001b[39;00m\n\u001b[0;32m    198\u001b[0m             }\n\u001b[1;32m--> 199\u001b[0m response \u001b[38;5;241m=\u001b[39m requests\u001b[38;5;241m.\u001b[39mget(URL,params\u001b[38;5;241m=\u001b[39mparams,headers\u001b[38;5;241m=\u001b[39mheaders)\n\u001b[0;32m    200\u001b[0m \u001b[38;5;28;01mreturn\u001b[39;00m response\n",
      "File \u001b[1;32m~\\anaconda3\\Lib\\site-packages\\requests\\api.py:73\u001b[0m, in \u001b[0;36mget\u001b[1;34m(url, params, **kwargs)\u001b[0m\n\u001b[0;32m     62\u001b[0m \u001b[38;5;28;01mdef\u001b[39;00m \u001b[38;5;21mget\u001b[39m(url, params\u001b[38;5;241m=\u001b[39m\u001b[38;5;28;01mNone\u001b[39;00m, \u001b[38;5;241m*\u001b[39m\u001b[38;5;241m*\u001b[39mkwargs):\n\u001b[0;32m     63\u001b[0m \u001b[38;5;250m    \u001b[39m\u001b[38;5;124mr\u001b[39m\u001b[38;5;124;03m\"\"\"Sends a GET request.\u001b[39;00m\n\u001b[0;32m     64\u001b[0m \n\u001b[0;32m     65\u001b[0m \u001b[38;5;124;03m    :param url: URL for the new :class:`Request` object.\u001b[39;00m\n\u001b[1;32m   (...)\u001b[0m\n\u001b[0;32m     70\u001b[0m \u001b[38;5;124;03m    :rtype: requests.Response\u001b[39;00m\n\u001b[0;32m     71\u001b[0m \u001b[38;5;124;03m    \"\"\"\u001b[39;00m\n\u001b[1;32m---> 73\u001b[0m     \u001b[38;5;28;01mreturn\u001b[39;00m request(\u001b[38;5;124m\"\u001b[39m\u001b[38;5;124mget\u001b[39m\u001b[38;5;124m\"\u001b[39m, url, params\u001b[38;5;241m=\u001b[39mparams, \u001b[38;5;241m*\u001b[39m\u001b[38;5;241m*\u001b[39mkwargs)\n",
      "File \u001b[1;32m~\\anaconda3\\Lib\\site-packages\\requests\\api.py:59\u001b[0m, in \u001b[0;36mrequest\u001b[1;34m(method, url, **kwargs)\u001b[0m\n\u001b[0;32m     55\u001b[0m \u001b[38;5;66;03m# By using the 'with' statement we are sure the session is closed, thus we\u001b[39;00m\n\u001b[0;32m     56\u001b[0m \u001b[38;5;66;03m# avoid leaving sockets open which can trigger a ResourceWarning in some\u001b[39;00m\n\u001b[0;32m     57\u001b[0m \u001b[38;5;66;03m# cases, and look like a memory leak in others.\u001b[39;00m\n\u001b[0;32m     58\u001b[0m \u001b[38;5;28;01mwith\u001b[39;00m sessions\u001b[38;5;241m.\u001b[39mSession() \u001b[38;5;28;01mas\u001b[39;00m session:\n\u001b[1;32m---> 59\u001b[0m     \u001b[38;5;28;01mreturn\u001b[39;00m session\u001b[38;5;241m.\u001b[39mrequest(method\u001b[38;5;241m=\u001b[39mmethod, url\u001b[38;5;241m=\u001b[39murl, \u001b[38;5;241m*\u001b[39m\u001b[38;5;241m*\u001b[39mkwargs)\n",
      "File \u001b[1;32m~\\anaconda3\\Lib\\site-packages\\requests\\sessions.py:589\u001b[0m, in \u001b[0;36mSession.request\u001b[1;34m(self, method, url, params, data, headers, cookies, files, auth, timeout, allow_redirects, proxies, hooks, stream, verify, cert, json)\u001b[0m\n\u001b[0;32m    584\u001b[0m send_kwargs \u001b[38;5;241m=\u001b[39m {\n\u001b[0;32m    585\u001b[0m     \u001b[38;5;124m\"\u001b[39m\u001b[38;5;124mtimeout\u001b[39m\u001b[38;5;124m\"\u001b[39m: timeout,\n\u001b[0;32m    586\u001b[0m     \u001b[38;5;124m\"\u001b[39m\u001b[38;5;124mallow_redirects\u001b[39m\u001b[38;5;124m\"\u001b[39m: allow_redirects,\n\u001b[0;32m    587\u001b[0m }\n\u001b[0;32m    588\u001b[0m send_kwargs\u001b[38;5;241m.\u001b[39mupdate(settings)\n\u001b[1;32m--> 589\u001b[0m resp \u001b[38;5;241m=\u001b[39m \u001b[38;5;28mself\u001b[39m\u001b[38;5;241m.\u001b[39msend(prep, \u001b[38;5;241m*\u001b[39m\u001b[38;5;241m*\u001b[39msend_kwargs)\n\u001b[0;32m    591\u001b[0m \u001b[38;5;28;01mreturn\u001b[39;00m resp\n",
      "File \u001b[1;32m~\\anaconda3\\Lib\\site-packages\\requests\\sessions.py:703\u001b[0m, in \u001b[0;36mSession.send\u001b[1;34m(self, request, **kwargs)\u001b[0m\n\u001b[0;32m    700\u001b[0m start \u001b[38;5;241m=\u001b[39m preferred_clock()\n\u001b[0;32m    702\u001b[0m \u001b[38;5;66;03m# Send the request\u001b[39;00m\n\u001b[1;32m--> 703\u001b[0m r \u001b[38;5;241m=\u001b[39m adapter\u001b[38;5;241m.\u001b[39msend(request, \u001b[38;5;241m*\u001b[39m\u001b[38;5;241m*\u001b[39mkwargs)\n\u001b[0;32m    705\u001b[0m \u001b[38;5;66;03m# Total elapsed time of the request (approximately)\u001b[39;00m\n\u001b[0;32m    706\u001b[0m elapsed \u001b[38;5;241m=\u001b[39m preferred_clock() \u001b[38;5;241m-\u001b[39m start\n",
      "File \u001b[1;32m~\\anaconda3\\Lib\\site-packages\\requests\\adapters.py:486\u001b[0m, in \u001b[0;36mHTTPAdapter.send\u001b[1;34m(self, request, stream, timeout, verify, cert, proxies)\u001b[0m\n\u001b[0;32m    483\u001b[0m     timeout \u001b[38;5;241m=\u001b[39m TimeoutSauce(connect\u001b[38;5;241m=\u001b[39mtimeout, read\u001b[38;5;241m=\u001b[39mtimeout)\n\u001b[0;32m    485\u001b[0m \u001b[38;5;28;01mtry\u001b[39;00m:\n\u001b[1;32m--> 486\u001b[0m     resp \u001b[38;5;241m=\u001b[39m conn\u001b[38;5;241m.\u001b[39murlopen(\n\u001b[0;32m    487\u001b[0m         method\u001b[38;5;241m=\u001b[39mrequest\u001b[38;5;241m.\u001b[39mmethod,\n\u001b[0;32m    488\u001b[0m         url\u001b[38;5;241m=\u001b[39murl,\n\u001b[0;32m    489\u001b[0m         body\u001b[38;5;241m=\u001b[39mrequest\u001b[38;5;241m.\u001b[39mbody,\n\u001b[0;32m    490\u001b[0m         headers\u001b[38;5;241m=\u001b[39mrequest\u001b[38;5;241m.\u001b[39mheaders,\n\u001b[0;32m    491\u001b[0m         redirect\u001b[38;5;241m=\u001b[39m\u001b[38;5;28;01mFalse\u001b[39;00m,\n\u001b[0;32m    492\u001b[0m         assert_same_host\u001b[38;5;241m=\u001b[39m\u001b[38;5;28;01mFalse\u001b[39;00m,\n\u001b[0;32m    493\u001b[0m         preload_content\u001b[38;5;241m=\u001b[39m\u001b[38;5;28;01mFalse\u001b[39;00m,\n\u001b[0;32m    494\u001b[0m         decode_content\u001b[38;5;241m=\u001b[39m\u001b[38;5;28;01mFalse\u001b[39;00m,\n\u001b[0;32m    495\u001b[0m         retries\u001b[38;5;241m=\u001b[39m\u001b[38;5;28mself\u001b[39m\u001b[38;5;241m.\u001b[39mmax_retries,\n\u001b[0;32m    496\u001b[0m         timeout\u001b[38;5;241m=\u001b[39mtimeout,\n\u001b[0;32m    497\u001b[0m         chunked\u001b[38;5;241m=\u001b[39mchunked,\n\u001b[0;32m    498\u001b[0m     )\n\u001b[0;32m    500\u001b[0m \u001b[38;5;28;01mexcept\u001b[39;00m (ProtocolError, \u001b[38;5;167;01mOSError\u001b[39;00m) \u001b[38;5;28;01mas\u001b[39;00m err:\n\u001b[0;32m    501\u001b[0m     \u001b[38;5;28;01mraise\u001b[39;00m \u001b[38;5;167;01mConnectionError\u001b[39;00m(err, request\u001b[38;5;241m=\u001b[39mrequest)\n",
      "File \u001b[1;32m~\\anaconda3\\Lib\\site-packages\\urllib3\\connectionpool.py:715\u001b[0m, in \u001b[0;36mHTTPConnectionPool.urlopen\u001b[1;34m(self, method, url, body, headers, retries, redirect, assert_same_host, timeout, pool_timeout, release_conn, chunked, body_pos, **response_kw)\u001b[0m\n\u001b[0;32m    712\u001b[0m     \u001b[38;5;28mself\u001b[39m\u001b[38;5;241m.\u001b[39m_prepare_proxy(conn)\n\u001b[0;32m    714\u001b[0m \u001b[38;5;66;03m# Make the request on the httplib connection object.\u001b[39;00m\n\u001b[1;32m--> 715\u001b[0m httplib_response \u001b[38;5;241m=\u001b[39m \u001b[38;5;28mself\u001b[39m\u001b[38;5;241m.\u001b[39m_make_request(\n\u001b[0;32m    716\u001b[0m     conn,\n\u001b[0;32m    717\u001b[0m     method,\n\u001b[0;32m    718\u001b[0m     url,\n\u001b[0;32m    719\u001b[0m     timeout\u001b[38;5;241m=\u001b[39mtimeout_obj,\n\u001b[0;32m    720\u001b[0m     body\u001b[38;5;241m=\u001b[39mbody,\n\u001b[0;32m    721\u001b[0m     headers\u001b[38;5;241m=\u001b[39mheaders,\n\u001b[0;32m    722\u001b[0m     chunked\u001b[38;5;241m=\u001b[39mchunked,\n\u001b[0;32m    723\u001b[0m )\n\u001b[0;32m    725\u001b[0m \u001b[38;5;66;03m# If we're going to release the connection in ``finally:``, then\u001b[39;00m\n\u001b[0;32m    726\u001b[0m \u001b[38;5;66;03m# the response doesn't need to know about the connection. Otherwise\u001b[39;00m\n\u001b[0;32m    727\u001b[0m \u001b[38;5;66;03m# it will also try to release it and we'll have a double-release\u001b[39;00m\n\u001b[0;32m    728\u001b[0m \u001b[38;5;66;03m# mess.\u001b[39;00m\n\u001b[0;32m    729\u001b[0m response_conn \u001b[38;5;241m=\u001b[39m conn \u001b[38;5;28;01mif\u001b[39;00m \u001b[38;5;129;01mnot\u001b[39;00m release_conn \u001b[38;5;28;01melse\u001b[39;00m \u001b[38;5;28;01mNone\u001b[39;00m\n",
      "File \u001b[1;32m~\\anaconda3\\Lib\\site-packages\\urllib3\\connectionpool.py:467\u001b[0m, in \u001b[0;36mHTTPConnectionPool._make_request\u001b[1;34m(self, conn, method, url, timeout, chunked, **httplib_request_kw)\u001b[0m\n\u001b[0;32m    462\u001b[0m             httplib_response \u001b[38;5;241m=\u001b[39m conn\u001b[38;5;241m.\u001b[39mgetresponse()\n\u001b[0;32m    463\u001b[0m         \u001b[38;5;28;01mexcept\u001b[39;00m \u001b[38;5;167;01mBaseException\u001b[39;00m \u001b[38;5;28;01mas\u001b[39;00m e:\n\u001b[0;32m    464\u001b[0m             \u001b[38;5;66;03m# Remove the TypeError from the exception chain in\u001b[39;00m\n\u001b[0;32m    465\u001b[0m             \u001b[38;5;66;03m# Python 3 (including for exceptions like SystemExit).\u001b[39;00m\n\u001b[0;32m    466\u001b[0m             \u001b[38;5;66;03m# Otherwise it looks like a bug in the code.\u001b[39;00m\n\u001b[1;32m--> 467\u001b[0m             six\u001b[38;5;241m.\u001b[39mraise_from(e, \u001b[38;5;28;01mNone\u001b[39;00m)\n\u001b[0;32m    468\u001b[0m \u001b[38;5;28;01mexcept\u001b[39;00m (SocketTimeout, BaseSSLError, SocketError) \u001b[38;5;28;01mas\u001b[39;00m e:\n\u001b[0;32m    469\u001b[0m     \u001b[38;5;28mself\u001b[39m\u001b[38;5;241m.\u001b[39m_raise_timeout(err\u001b[38;5;241m=\u001b[39me, url\u001b[38;5;241m=\u001b[39murl, timeout_value\u001b[38;5;241m=\u001b[39mread_timeout)\n",
      "File \u001b[1;32m<string>:3\u001b[0m, in \u001b[0;36mraise_from\u001b[1;34m(value, from_value)\u001b[0m\n",
      "File \u001b[1;32m~\\anaconda3\\Lib\\site-packages\\urllib3\\connectionpool.py:462\u001b[0m, in \u001b[0;36mHTTPConnectionPool._make_request\u001b[1;34m(self, conn, method, url, timeout, chunked, **httplib_request_kw)\u001b[0m\n\u001b[0;32m    459\u001b[0m \u001b[38;5;28;01mexcept\u001b[39;00m \u001b[38;5;167;01mTypeError\u001b[39;00m:\n\u001b[0;32m    460\u001b[0m     \u001b[38;5;66;03m# Python 3\u001b[39;00m\n\u001b[0;32m    461\u001b[0m     \u001b[38;5;28;01mtry\u001b[39;00m:\n\u001b[1;32m--> 462\u001b[0m         httplib_response \u001b[38;5;241m=\u001b[39m conn\u001b[38;5;241m.\u001b[39mgetresponse()\n\u001b[0;32m    463\u001b[0m     \u001b[38;5;28;01mexcept\u001b[39;00m \u001b[38;5;167;01mBaseException\u001b[39;00m \u001b[38;5;28;01mas\u001b[39;00m e:\n\u001b[0;32m    464\u001b[0m         \u001b[38;5;66;03m# Remove the TypeError from the exception chain in\u001b[39;00m\n\u001b[0;32m    465\u001b[0m         \u001b[38;5;66;03m# Python 3 (including for exceptions like SystemExit).\u001b[39;00m\n\u001b[0;32m    466\u001b[0m         \u001b[38;5;66;03m# Otherwise it looks like a bug in the code.\u001b[39;00m\n\u001b[0;32m    467\u001b[0m         six\u001b[38;5;241m.\u001b[39mraise_from(e, \u001b[38;5;28;01mNone\u001b[39;00m)\n",
      "File \u001b[1;32m~\\anaconda3\\Lib\\http\\client.py:1378\u001b[0m, in \u001b[0;36mHTTPConnection.getresponse\u001b[1;34m(self)\u001b[0m\n\u001b[0;32m   1376\u001b[0m \u001b[38;5;28;01mtry\u001b[39;00m:\n\u001b[0;32m   1377\u001b[0m     \u001b[38;5;28;01mtry\u001b[39;00m:\n\u001b[1;32m-> 1378\u001b[0m         response\u001b[38;5;241m.\u001b[39mbegin()\n\u001b[0;32m   1379\u001b[0m     \u001b[38;5;28;01mexcept\u001b[39;00m \u001b[38;5;167;01mConnectionError\u001b[39;00m:\n\u001b[0;32m   1380\u001b[0m         \u001b[38;5;28mself\u001b[39m\u001b[38;5;241m.\u001b[39mclose()\n",
      "File \u001b[1;32m~\\anaconda3\\Lib\\http\\client.py:318\u001b[0m, in \u001b[0;36mHTTPResponse.begin\u001b[1;34m(self)\u001b[0m\n\u001b[0;32m    316\u001b[0m \u001b[38;5;66;03m# read until we get a non-100 response\u001b[39;00m\n\u001b[0;32m    317\u001b[0m \u001b[38;5;28;01mwhile\u001b[39;00m \u001b[38;5;28;01mTrue\u001b[39;00m:\n\u001b[1;32m--> 318\u001b[0m     version, status, reason \u001b[38;5;241m=\u001b[39m \u001b[38;5;28mself\u001b[39m\u001b[38;5;241m.\u001b[39m_read_status()\n\u001b[0;32m    319\u001b[0m     \u001b[38;5;28;01mif\u001b[39;00m status \u001b[38;5;241m!=\u001b[39m CONTINUE:\n\u001b[0;32m    320\u001b[0m         \u001b[38;5;28;01mbreak\u001b[39;00m\n",
      "File \u001b[1;32m~\\anaconda3\\Lib\\http\\client.py:279\u001b[0m, in \u001b[0;36mHTTPResponse._read_status\u001b[1;34m(self)\u001b[0m\n\u001b[0;32m    278\u001b[0m \u001b[38;5;28;01mdef\u001b[39;00m \u001b[38;5;21m_read_status\u001b[39m(\u001b[38;5;28mself\u001b[39m):\n\u001b[1;32m--> 279\u001b[0m     line \u001b[38;5;241m=\u001b[39m \u001b[38;5;28mstr\u001b[39m(\u001b[38;5;28mself\u001b[39m\u001b[38;5;241m.\u001b[39mfp\u001b[38;5;241m.\u001b[39mreadline(_MAXLINE \u001b[38;5;241m+\u001b[39m \u001b[38;5;241m1\u001b[39m), \u001b[38;5;124m\"\u001b[39m\u001b[38;5;124miso-8859-1\u001b[39m\u001b[38;5;124m\"\u001b[39m)\n\u001b[0;32m    280\u001b[0m     \u001b[38;5;28;01mif\u001b[39;00m \u001b[38;5;28mlen\u001b[39m(line) \u001b[38;5;241m>\u001b[39m _MAXLINE:\n\u001b[0;32m    281\u001b[0m         \u001b[38;5;28;01mraise\u001b[39;00m LineTooLong(\u001b[38;5;124m\"\u001b[39m\u001b[38;5;124mstatus line\u001b[39m\u001b[38;5;124m\"\u001b[39m)\n",
      "File \u001b[1;32m~\\anaconda3\\Lib\\socket.py:706\u001b[0m, in \u001b[0;36mSocketIO.readinto\u001b[1;34m(self, b)\u001b[0m\n\u001b[0;32m    704\u001b[0m \u001b[38;5;28;01mwhile\u001b[39;00m \u001b[38;5;28;01mTrue\u001b[39;00m:\n\u001b[0;32m    705\u001b[0m     \u001b[38;5;28;01mtry\u001b[39;00m:\n\u001b[1;32m--> 706\u001b[0m         \u001b[38;5;28;01mreturn\u001b[39;00m \u001b[38;5;28mself\u001b[39m\u001b[38;5;241m.\u001b[39m_sock\u001b[38;5;241m.\u001b[39mrecv_into(b)\n\u001b[0;32m    707\u001b[0m     \u001b[38;5;28;01mexcept\u001b[39;00m timeout:\n\u001b[0;32m    708\u001b[0m         \u001b[38;5;28mself\u001b[39m\u001b[38;5;241m.\u001b[39m_timeout_occurred \u001b[38;5;241m=\u001b[39m \u001b[38;5;28;01mTrue\u001b[39;00m\n",
      "File \u001b[1;32m~\\anaconda3\\Lib\\ssl.py:1311\u001b[0m, in \u001b[0;36mSSLSocket.recv_into\u001b[1;34m(self, buffer, nbytes, flags)\u001b[0m\n\u001b[0;32m   1307\u001b[0m     \u001b[38;5;28;01mif\u001b[39;00m flags \u001b[38;5;241m!=\u001b[39m \u001b[38;5;241m0\u001b[39m:\n\u001b[0;32m   1308\u001b[0m         \u001b[38;5;28;01mraise\u001b[39;00m \u001b[38;5;167;01mValueError\u001b[39;00m(\n\u001b[0;32m   1309\u001b[0m           \u001b[38;5;124m\"\u001b[39m\u001b[38;5;124mnon-zero flags not allowed in calls to recv_into() on \u001b[39m\u001b[38;5;132;01m%s\u001b[39;00m\u001b[38;5;124m\"\u001b[39m \u001b[38;5;241m%\u001b[39m\n\u001b[0;32m   1310\u001b[0m           \u001b[38;5;28mself\u001b[39m\u001b[38;5;241m.\u001b[39m\u001b[38;5;18m__class__\u001b[39m)\n\u001b[1;32m-> 1311\u001b[0m     \u001b[38;5;28;01mreturn\u001b[39;00m \u001b[38;5;28mself\u001b[39m\u001b[38;5;241m.\u001b[39mread(nbytes, buffer)\n\u001b[0;32m   1312\u001b[0m \u001b[38;5;28;01melse\u001b[39;00m:\n\u001b[0;32m   1313\u001b[0m     \u001b[38;5;28;01mreturn\u001b[39;00m \u001b[38;5;28msuper\u001b[39m()\u001b[38;5;241m.\u001b[39mrecv_into(buffer, nbytes, flags)\n",
      "File \u001b[1;32m~\\anaconda3\\Lib\\ssl.py:1167\u001b[0m, in \u001b[0;36mSSLSocket.read\u001b[1;34m(self, len, buffer)\u001b[0m\n\u001b[0;32m   1165\u001b[0m \u001b[38;5;28;01mtry\u001b[39;00m:\n\u001b[0;32m   1166\u001b[0m     \u001b[38;5;28;01mif\u001b[39;00m buffer \u001b[38;5;129;01mis\u001b[39;00m \u001b[38;5;129;01mnot\u001b[39;00m \u001b[38;5;28;01mNone\u001b[39;00m:\n\u001b[1;32m-> 1167\u001b[0m         \u001b[38;5;28;01mreturn\u001b[39;00m \u001b[38;5;28mself\u001b[39m\u001b[38;5;241m.\u001b[39m_sslobj\u001b[38;5;241m.\u001b[39mread(\u001b[38;5;28mlen\u001b[39m, buffer)\n\u001b[0;32m   1168\u001b[0m     \u001b[38;5;28;01melse\u001b[39;00m:\n\u001b[0;32m   1169\u001b[0m         \u001b[38;5;28;01mreturn\u001b[39;00m \u001b[38;5;28mself\u001b[39m\u001b[38;5;241m.\u001b[39m_sslobj\u001b[38;5;241m.\u001b[39mread(\u001b[38;5;28mlen\u001b[39m)\n",
      "\u001b[1;31mKeyboardInterrupt\u001b[0m: "
     ]
    }
   ],
   "source": [
    "ratings=[]\n",
    "city=[]\n",
    "category=[]\n",
    "#start=464\n",
    "# Specify the file path where you want to save the JSON file\n",
    "file_path = 'yelp_ratings_rest.json'\n",
    "\n",
    "for index, row in yelp_df_1.iterrows():\n",
    "    id=row['Business ID']\n",
    "    \n",
    "    res_review=get_reviews(id,Yelp_key)\n",
    "    res_review.status_code\n",
    "    if index%50==0:\n",
    "        print(index)\n",
    "    if res_review.status_code == 200:\n",
    "            review = res_review.json()\n",
    "            # Check if 'reviews' key exists in the JSON response and if it's not empty\n",
    "            if 'reviews' in review :\n",
    "                ratings.append(review) # to keep list of reviews for each venue\n",
    "                # Open the file in write mode and dump the data into it\n",
    "                with open(file_path, 'w') as f:\n",
    "                    json.dump(ratings, f)\n",
    "                city.append(row['City'])\n",
    "                category.append(row['Category'])\n",
    "            else:\n",
    "                ratings.append('N/A')\n",
    "                city.append(row['City'])\n",
    "                category.append(row['Category'])\n",
    "            \n",
    "    else:\n",
    "             print(\"Stopped at= \",index)\n",
    "             print(f\"Error: {res_review.status_code}, {res_review.text}\")\n",
    "             ratings.append('N/A') # for venues with no business id available\n",
    "             city.append(row['City'])\n",
    "             category.append(row['Category'])\n",
    "                           \n",
    "print(\"Stopped at= \",index)\n"
   ]
  },
  {
   "cell_type": "code",
   "execution_count": 59,
   "id": "948707fc-ed9b-448b-be78-7f6a4cb49b04",
   "metadata": {},
   "outputs": [
    {
     "data": {
      "text/plain": [
       "{'reviews': [{'id': 'bNGif21zpYVqIScZPU12sg',\n",
       "   'url': 'https://www.yelp.com/biz/latinoamerica-unida-cambridge?adjust_creative=oZXye3cdSQueceuS7SrgZg&hrid=bNGif21zpYVqIScZPU12sg&utm_campaign=yelp_api_v3&utm_medium=api_v3_business_reviews&utm_source=oZXye3cdSQueceuS7SrgZg',\n",
       "   'text': 'The best Mexican food in Cambridge and the KW region! One of my favourite spots to eat, Latinoamerica Unida has tasty and filling meals and amazing service,...',\n",
       "   'rating': 5,\n",
       "   'time_created': '2023-11-09 08:27:42',\n",
       "   'user': {'id': 'HDSAltBTaoTd7qkfNyxYfA',\n",
       "    'profile_url': 'https://www.yelp.com/user_details?userid=HDSAltBTaoTd7qkfNyxYfA',\n",
       "    'image_url': 'https://s3-media1.fl.yelpcdn.com/photo/WNvtaEGGoMnlm6VJuO1IIQ/o.jpg',\n",
       "    'name': 'Phyllis L.'}},\n",
       "  {'id': '927sxWMCpCVpaIw4MLSglQ',\n",
       "   'url': 'https://www.yelp.com/biz/latinoamerica-unida-cambridge?adjust_creative=oZXye3cdSQueceuS7SrgZg&hrid=927sxWMCpCVpaIw4MLSglQ&utm_campaign=yelp_api_v3&utm_medium=api_v3_business_reviews&utm_source=oZXye3cdSQueceuS7SrgZg',\n",
       "   'text': \"We were walking along Grand River and one of locals struck up a conversation. I think it was obvious we weren't from the area and he told us we should go to...\",\n",
       "   'rating': 5,\n",
       "   'time_created': '2022-09-11 17:29:19',\n",
       "   'user': {'id': 'ktrlzYpMzrKYOu_ivP3_sA',\n",
       "    'profile_url': 'https://www.yelp.com/user_details?userid=ktrlzYpMzrKYOu_ivP3_sA',\n",
       "    'image_url': 'https://s3-media3.fl.yelpcdn.com/photo/Hmxas4bWK4V1zYLC4MnmSg/o.jpg',\n",
       "    'name': 'Peter B.'}},\n",
       "  {'id': 'OgL8MaYZqGoRgxr9wMWLdQ',\n",
       "   'url': 'https://www.yelp.com/biz/latinoamerica-unida-cambridge?adjust_creative=oZXye3cdSQueceuS7SrgZg&hrid=OgL8MaYZqGoRgxr9wMWLdQ&utm_campaign=yelp_api_v3&utm_medium=api_v3_business_reviews&utm_source=oZXye3cdSQueceuS7SrgZg',\n",
       "   'text': \"We love going there, family oriented restaurant a little small but sooo authentic you can't beat it , margaritas are the bomb service is fantastic, food was...\",\n",
       "   'rating': 4,\n",
       "   'time_created': '2022-08-05 00:20:54',\n",
       "   'user': {'id': 'ZC0203i_WXKezfVEtqX0pw',\n",
       "    'profile_url': 'https://www.yelp.com/user_details?userid=ZC0203i_WXKezfVEtqX0pw',\n",
       "    'image_url': 'https://s3-media1.fl.yelpcdn.com/photo/Z6aaUpkvA9sUJs9kKQoxbA/o.jpg',\n",
       "    'name': 'Frederick D.'}}],\n",
       " 'total': 22,\n",
       " 'possible_languages': ['en']}"
      ]
     },
     "execution_count": 59,
     "metadata": {},
     "output_type": "execute_result"
    }
   ],
   "source": [
    "res_review.json()"
   ]
  },
  {
   "cell_type": "code",
   "execution_count": 69,
   "id": "56ab7995-70c6-4d0e-9fc3-5a8dd369d189",
   "metadata": {},
   "outputs": [],
   "source": [
    "yelp_data_reviews=pd.DataFrame({'Reviews_data':ratings,\n",
    "                                'City':city,\n",
    "                                'Category':category\n",
    "                               })\n",
    "yelp_data_reviews.to_csv('Yelp_restaurant_reviews.csv',index=False)\n"
   ]
  },
  {
   "cell_type": "code",
   "execution_count": 78,
   "id": "fea64112-f10a-4865-b9b3-e4a83f688c0c",
   "metadata": {},
   "outputs": [
    {
     "data": {
      "text/plain": [
       "{'id': 'bNGif21zpYVqIScZPU12sg',\n",
       " 'url': 'https://www.yelp.com/biz/latinoamerica-unida-cambridge?adjust_creative=oZXye3cdSQueceuS7SrgZg&hrid=bNGif21zpYVqIScZPU12sg&utm_campaign=yelp_api_v3&utm_medium=api_v3_business_reviews&utm_source=oZXye3cdSQueceuS7SrgZg',\n",
       " 'text': 'The best Mexican food in Cambridge and the KW region! One of my favourite spots to eat, Latinoamerica Unida has tasty and filling meals and amazing service,...',\n",
       " 'rating': 5,\n",
       " 'time_created': '2023-11-09 08:27:42',\n",
       " 'user': {'id': 'HDSAltBTaoTd7qkfNyxYfA',\n",
       "  'profile_url': 'https://www.yelp.com/user_details?userid=HDSAltBTaoTd7qkfNyxYfA',\n",
       "  'image_url': 'https://s3-media1.fl.yelpcdn.com/photo/WNvtaEGGoMnlm6VJuO1IIQ/o.jpg',\n",
       "  'name': 'Phyllis L.'}}"
      ]
     },
     "execution_count": 78,
     "metadata": {},
     "output_type": "execute_result"
    }
   ],
   "source": [
    "normalized_df = pd.json_normalize(yelp_data_reviews['Reviews_data'])"
   ]
  },
  {
   "cell_type": "code",
   "execution_count": 38,
   "id": "d7d2be81-b64f-4b87-9a8a-a4c2afb0dfad",
   "metadata": {},
   "outputs": [
    {
     "data": {
      "text/plain": [
       "{'id': 'bNGif21zpYVqIScZPU12sg',\n",
       " 'url': 'https://www.yelp.com/biz/latinoamerica-unida-cambridge?adjust_creative=4zMbJMTsk-7dm2DLTujCKw&hrid=bNGif21zpYVqIScZPU12sg&utm_campaign=yelp_api_v3&utm_medium=api_v3_business_reviews&utm_source=4zMbJMTsk-7dm2DLTujCKw',\n",
       " 'text': 'The best Mexican food in Cambridge and the KW region! One of my favourite spots to eat, Latinoamerica Unida has tasty and filling meals and amazing service,...',\n",
       " 'rating': 5,\n",
       " 'time_created': '2023-11-09 08:27:42',\n",
       " 'user': {'id': 'HDSAltBTaoTd7qkfNyxYfA',\n",
       "  'profile_url': 'https://www.yelp.com/user_details?userid=HDSAltBTaoTd7qkfNyxYfA',\n",
       "  'image_url': 'https://s3-media1.fl.yelpcdn.com/photo/WNvtaEGGoMnlm6VJuO1IIQ/o.jpg',\n",
       "  'name': 'Phyllis L.'}}"
      ]
     },
     "execution_count": 38,
     "metadata": {},
     "output_type": "execute_result"
    }
   ],
   "source": [
    "data=res_review.json()\n",
    "data['reviews'][0]"
   ]
  },
  {
   "cell_type": "code",
   "execution_count": 71,
   "id": "8419d398-86bb-4c05-93a7-2ff350e40899",
   "metadata": {},
   "outputs": [],
   "source": [
    "with open ('yelp_ratings_rest.json','r') as f:\n",
    "    data=json.load(f)"
   ]
  },
  {
   "cell_type": "code",
   "execution_count": 72,
   "id": "e9acf403-47c4-49d0-94a1-0882bb95609b",
   "metadata": {},
   "outputs": [
    {
     "data": {
      "text/plain": [
       "{'reviews': [{'id': 'bNGif21zpYVqIScZPU12sg',\n",
       "   'url': 'https://www.yelp.com/biz/latinoamerica-unida-cambridge?adjust_creative=oZXye3cdSQueceuS7SrgZg&hrid=bNGif21zpYVqIScZPU12sg&utm_campaign=yelp_api_v3&utm_medium=api_v3_business_reviews&utm_source=oZXye3cdSQueceuS7SrgZg',\n",
       "   'text': 'The best Mexican food in Cambridge and the KW region! One of my favourite spots to eat, Latinoamerica Unida has tasty and filling meals and amazing service,...',\n",
       "   'rating': 5,\n",
       "   'time_created': '2023-11-09 08:27:42',\n",
       "   'user': {'id': 'HDSAltBTaoTd7qkfNyxYfA',\n",
       "    'profile_url': 'https://www.yelp.com/user_details?userid=HDSAltBTaoTd7qkfNyxYfA',\n",
       "    'image_url': 'https://s3-media1.fl.yelpcdn.com/photo/WNvtaEGGoMnlm6VJuO1IIQ/o.jpg',\n",
       "    'name': 'Phyllis L.'}},\n",
       "  {'id': '927sxWMCpCVpaIw4MLSglQ',\n",
       "   'url': 'https://www.yelp.com/biz/latinoamerica-unida-cambridge?adjust_creative=oZXye3cdSQueceuS7SrgZg&hrid=927sxWMCpCVpaIw4MLSglQ&utm_campaign=yelp_api_v3&utm_medium=api_v3_business_reviews&utm_source=oZXye3cdSQueceuS7SrgZg',\n",
       "   'text': \"We were walking along Grand River and one of locals struck up a conversation. I think it was obvious we weren't from the area and he told us we should go to...\",\n",
       "   'rating': 5,\n",
       "   'time_created': '2022-09-11 17:29:19',\n",
       "   'user': {'id': 'ktrlzYpMzrKYOu_ivP3_sA',\n",
       "    'profile_url': 'https://www.yelp.com/user_details?userid=ktrlzYpMzrKYOu_ivP3_sA',\n",
       "    'image_url': 'https://s3-media3.fl.yelpcdn.com/photo/Hmxas4bWK4V1zYLC4MnmSg/o.jpg',\n",
       "    'name': 'Peter B.'}},\n",
       "  {'id': 'OgL8MaYZqGoRgxr9wMWLdQ',\n",
       "   'url': 'https://www.yelp.com/biz/latinoamerica-unida-cambridge?adjust_creative=oZXye3cdSQueceuS7SrgZg&hrid=OgL8MaYZqGoRgxr9wMWLdQ&utm_campaign=yelp_api_v3&utm_medium=api_v3_business_reviews&utm_source=oZXye3cdSQueceuS7SrgZg',\n",
       "   'text': \"We love going there, family oriented restaurant a little small but sooo authentic you can't beat it , margaritas are the bomb service is fantastic, food was...\",\n",
       "   'rating': 4,\n",
       "   'time_created': '2022-08-05 00:20:54',\n",
       "   'user': {'id': 'ZC0203i_WXKezfVEtqX0pw',\n",
       "    'profile_url': 'https://www.yelp.com/user_details?userid=ZC0203i_WXKezfVEtqX0pw',\n",
       "    'image_url': 'https://s3-media1.fl.yelpcdn.com/photo/Z6aaUpkvA9sUJs9kKQoxbA/o.jpg',\n",
       "    'name': 'Frederick D.'}}],\n",
       " 'total': 22,\n",
       " 'possible_languages': ['en']}"
      ]
     },
     "execution_count": 72,
     "metadata": {},
     "output_type": "execute_result"
    }
   ],
   "source": [
    "data[0]"
   ]
  },
  {
   "cell_type": "code",
   "execution_count": null,
   "id": "ee1343f1-7f49-4f30-bb52-61d233b2ed5d",
   "metadata": {},
   "outputs": [],
   "source": []
  }
 ],
 "metadata": {
  "kernelspec": {
   "display_name": "Python 3 (ipykernel)",
   "language": "python",
   "name": "python3"
  },
  "language_info": {
   "codemirror_mode": {
    "name": "ipython",
    "version": 3
   },
   "file_extension": ".py",
   "mimetype": "text/x-python",
   "name": "python",
   "nbconvert_exporter": "python",
   "pygments_lexer": "ipython3",
   "version": "3.11.5"
  }
 },
 "nbformat": 4,
 "nbformat_minor": 5
}
