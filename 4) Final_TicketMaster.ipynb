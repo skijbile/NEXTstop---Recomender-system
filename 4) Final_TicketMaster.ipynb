{
 "cells": [
  {
   "cell_type": "markdown",
   "id": "0eb7e062-6378-45cf-a196-e413193cd1f1",
   "metadata": {},
   "source": [
    "##### This notebook combines the data pulled from the Ticket master API into one dataframe and save the data as Final_TicketMaster.csv"
   ]
  },
  {
   "cell_type": "code",
   "execution_count": 6,
   "id": "cc86fc35-dd9f-4978-9440-3a9c5afbd241",
   "metadata": {},
   "outputs": [],
   "source": [
    "import pandas as pd"
   ]
  },
  {
   "cell_type": "code",
   "execution_count": 7,
   "id": "9fbd725a-d3b8-4dea-ad38-fb3395815dcf",
   "metadata": {},
   "outputs": [],
   "source": [
    "#import the csv's\n",
    "music_df=pd.read_csv('TicketMaster_music.csv')\n",
    "sports_df=pd.read_csv('TicketMaster_sports.csv')\n"
   ]
  },
  {
   "cell_type": "code",
   "execution_count": 13,
   "id": "65f9a524-8f39-4a86-a85a-e2f02bf60570",
   "metadata": {},
   "outputs": [],
   "source": [
    "music_df.drop_duplicates(inplace=True)"
   ]
  },
  {
   "cell_type": "code",
   "execution_count": 14,
   "id": "c1c9f6ae-de52-4e1b-b8a9-5d2bd18c7dee",
   "metadata": {},
   "outputs": [],
   "source": [
    "# Combine the 2 csv's vertically stacking them \n",
    "\n",
    "TicketMaster_df=pd.concat([music_df,sports_df],axis=0) "
   ]
  },
  {
   "cell_type": "code",
   "execution_count": 15,
   "id": "c14b460b-9154-4e91-bd7d-c2fe1aa5d9d7",
   "metadata": {
    "scrolled": true
   },
   "outputs": [
    {
     "data": {
      "text/plain": [
       "(1806, 17)"
      ]
     },
     "execution_count": 15,
     "metadata": {},
     "output_type": "execute_result"
    }
   ],
   "source": [
    "TicketMaster_df.shape"
   ]
  },
  {
   "cell_type": "code",
   "execution_count": 16,
   "id": "7610f98f-662b-4122-a958-6ea4c8ec09f7",
   "metadata": {},
   "outputs": [],
   "source": [
    "# save this to a csv\n",
    "TicketMaster_df.to_csv(\"TicketMaster_merged.csv\",index=False)"
   ]
  },
  {
   "cell_type": "code",
   "execution_count": 5,
   "id": "995574c3-8e35-4e1c-85e4-e3571ae8a360",
   "metadata": {},
   "outputs": [
    {
     "name": "stdout",
     "output_type": "stream",
     "text": [
      "<class 'pandas.core.frame.DataFrame'>\n",
      "Index: 3706 entries, 0 to 805\n",
      "Data columns (total 17 columns):\n",
      " #   Column              Non-Null Count  Dtype  \n",
      "---  ------              --------------  -----  \n",
      " 0   Event_name          3706 non-null   object \n",
      " 1   Event_type          3704 non-null   object \n",
      " 2   Event_dates         3706 non-null   object \n",
      " 3   Event_start_times   3672 non-null   object \n",
      " 4   Event_time_zone     3706 non-null   object \n",
      " 5   Purchase_end_dates  3685 non-null   object \n",
      " 6   Venues              3706 non-null   object \n",
      " 7   City                3706 non-null   object \n",
      " 8   States              3706 non-null   object \n",
      " 9   Address             3706 non-null   object \n",
      " 10  Latitude            3701 non-null   float64\n",
      " 11  Longitude           3701 non-null   float64\n",
      " 12  Additional_info     2279 non-null   object \n",
      " 13  Ticket_limits       3281 non-null   object \n",
      " 14  Age_restrictions    2443 non-null   object \n",
      " 15  Parking             1650 non-null   object \n",
      " 16  Accesibility        1618 non-null   object \n",
      "dtypes: float64(2), object(15)\n",
      "memory usage: 521.2+ KB\n"
     ]
    }
   ],
   "source": [
    "TicketMaster_df.info()"
   ]
  },
  {
   "cell_type": "code",
   "execution_count": 27,
   "id": "70841b9c-81f5-4de2-a82d-9ad591726075",
   "metadata": {},
   "outputs": [
    {
     "name": "stdout",
     "output_type": "stream",
     "text": [
      "270 270 270 270 270 270\n"
     ]
    }
   ],
   "source": [
    "# Get unique combinations of latitude and \n",
    "latitude_venue=TicketMaster_df[['Latitude','City']].drop_duplicates()\n",
    "latitude_venue.dropna(inplace=True)\n",
    "#Extract unique latitude\n",
    "latitude_array=latitude_venue['Latitude'].tolist()\n",
    "\n",
    "# Get unique combinations of longitude and venue\n",
    "longitude_venue=TicketMaster_df[['Longitude','City']].drop_duplicates()\n",
    "longitude_venue.dropna(inplace=True)\n",
    "\n",
    "#Extract unique longitude\n",
    "longitude_array=longitude_venue['Longitude'].tolist()\n",
    "\n",
    "venue_array=TicketMaster_df['Venues'].unique()\n",
    "address_array=TicketMaster_df['Address'].unique()\n",
    "\n",
    "# Get unique combinations of city and venue\n",
    "city_venue = TicketMaster_df[['City', 'Venues']].drop_duplicates()\n",
    "\n",
    "# Extract unique cities\n",
    "city_array = city_venue['City'].tolist()\n",
    "\n",
    "# Get unique combinations of state and venue\n",
    "state_venue = TicketMaster_df[['States', 'Venues']].drop_duplicates()\n",
    "\n",
    "# Extract unique cities\n",
    "states_array = state_venue['States'].tolist()\n",
    "\n",
    "print(len(latitude_array),len(longitude_array),len(venue_array),len(address_array),len(city_array), len(states_array))"
   ]
  },
  {
   "cell_type": "code",
   "execution_count": 28,
   "id": "30eb1e45-0146-4351-966b-a6d1bf406728",
   "metadata": {},
   "outputs": [
    {
     "data": {
      "text/html": [
       "<div>\n",
       "<style scoped>\n",
       "    .dataframe tbody tr th:only-of-type {\n",
       "        vertical-align: middle;\n",
       "    }\n",
       "\n",
       "    .dataframe tbody tr th {\n",
       "        vertical-align: top;\n",
       "    }\n",
       "\n",
       "    .dataframe thead th {\n",
       "        text-align: right;\n",
       "    }\n",
       "</style>\n",
       "<table border=\"1\" class=\"dataframe\">\n",
       "  <thead>\n",
       "    <tr style=\"text-align: right;\">\n",
       "      <th></th>\n",
       "      <th>Venue</th>\n",
       "      <th>Address</th>\n",
       "      <th>City</th>\n",
       "      <th>State</th>\n",
       "      <th>latitude</th>\n",
       "      <th>longitude</th>\n",
       "    </tr>\n",
       "  </thead>\n",
       "  <tbody>\n",
       "    <tr>\n",
       "      <th>0</th>\n",
       "      <td>Farm League Brewing</td>\n",
       "      <td>295 Ainslie Street S</td>\n",
       "      <td>Cambridge</td>\n",
       "      <td>Ontario</td>\n",
       "      <td>43.351280</td>\n",
       "      <td>-80.313180</td>\n",
       "    </tr>\n",
       "    <tr>\n",
       "      <th>1</th>\n",
       "      <td>Dickens Pub</td>\n",
       "      <td>1000 9th Avenue SW</td>\n",
       "      <td>Calgary</td>\n",
       "      <td>Alberta</td>\n",
       "      <td>51.045486</td>\n",
       "      <td>-114.083990</td>\n",
       "    </tr>\n",
       "    <tr>\n",
       "      <th>2</th>\n",
       "      <td>Under the Neon Palms at the El Mocambo</td>\n",
       "      <td>464 Spadina Avenue</td>\n",
       "      <td>Toronto</td>\n",
       "      <td>Ontario</td>\n",
       "      <td>43.657580</td>\n",
       "      <td>-79.400200</td>\n",
       "    </tr>\n",
       "    <tr>\n",
       "      <th>3</th>\n",
       "      <td>Grand Bizarre Exhibition Place</td>\n",
       "      <td>15 Saskatchewan Rd</td>\n",
       "      <td>Toronto</td>\n",
       "      <td>Ontario</td>\n",
       "      <td>43.632598</td>\n",
       "      <td>-79.423739</td>\n",
       "    </tr>\n",
       "    <tr>\n",
       "      <th>4</th>\n",
       "      <td>The Starlite Room</td>\n",
       "      <td>10030 – 102 Street</td>\n",
       "      <td>Edmonton</td>\n",
       "      <td>Alberta</td>\n",
       "      <td>53.546218</td>\n",
       "      <td>-113.490371</td>\n",
       "    </tr>\n",
       "    <tr>\n",
       "      <th>...</th>\n",
       "      <td>...</td>\n",
       "      <td>...</td>\n",
       "      <td>...</td>\n",
       "      <td>...</td>\n",
       "      <td>...</td>\n",
       "      <td>...</td>\n",
       "    </tr>\n",
       "    <tr>\n",
       "      <th>265</th>\n",
       "      <td>Northern Range</td>\n",
       "      <td>141 Millrand Road</td>\n",
       "      <td>Verner</td>\n",
       "      <td>Ontario</td>\n",
       "      <td>46.363530</td>\n",
       "      <td>-80.177220</td>\n",
       "    </tr>\n",
       "    <tr>\n",
       "      <th>266</th>\n",
       "      <td>The Royal Montreal Golf Club</td>\n",
       "      <td>25 Chemin South Ridge</td>\n",
       "      <td>Ile Bizard</td>\n",
       "      <td>Quebec</td>\n",
       "      <td>45.493332</td>\n",
       "      <td>-73.901847</td>\n",
       "    </tr>\n",
       "    <tr>\n",
       "      <th>267</th>\n",
       "      <td>Ancaster Fairgrounds</td>\n",
       "      <td>630 Trinity Road South</td>\n",
       "      <td>Jerseyville</td>\n",
       "      <td>Ontario</td>\n",
       "      <td>43.188710</td>\n",
       "      <td>-80.041060</td>\n",
       "    </tr>\n",
       "    <tr>\n",
       "      <th>268</th>\n",
       "      <td>Atlantic Canada Venue TBD</td>\n",
       "      <td>Address TBD</td>\n",
       "      <td>Halifax</td>\n",
       "      <td>Nova Scotia</td>\n",
       "      <td>44.648948</td>\n",
       "      <td>-63.572064</td>\n",
       "    </tr>\n",
       "    <tr>\n",
       "      <th>269</th>\n",
       "      <td>Sleeman Centre</td>\n",
       "      <td>50 Woolwich St.</td>\n",
       "      <td>Guelph</td>\n",
       "      <td>Ontario</td>\n",
       "      <td>43.547065</td>\n",
       "      <td>-80.246659</td>\n",
       "    </tr>\n",
       "  </tbody>\n",
       "</table>\n",
       "<p>270 rows × 6 columns</p>\n",
       "</div>"
      ],
      "text/plain": [
       "                                      Venue                 Address  \\\n",
       "0                       Farm League Brewing    295 Ainslie Street S   \n",
       "1                               Dickens Pub     1000 9th Avenue SW    \n",
       "2    Under the Neon Palms at the El Mocambo      464 Spadina Avenue   \n",
       "3            Grand Bizarre Exhibition Place      15 Saskatchewan Rd   \n",
       "4                         The Starlite Room      10030 – 102 Street   \n",
       "..                                      ...                     ...   \n",
       "265                          Northern Range       141 Millrand Road   \n",
       "266            The Royal Montreal Golf Club   25 Chemin South Ridge   \n",
       "267                    Ancaster Fairgrounds  630 Trinity Road South   \n",
       "268               Atlantic Canada Venue TBD             Address TBD   \n",
       "269                          Sleeman Centre        50 Woolwich St.    \n",
       "\n",
       "            City        State   latitude   longitude  \n",
       "0      Cambridge      Ontario  43.351280  -80.313180  \n",
       "1        Calgary      Alberta  51.045486 -114.083990  \n",
       "2        Toronto      Ontario  43.657580  -79.400200  \n",
       "3        Toronto      Ontario  43.632598  -79.423739  \n",
       "4       Edmonton      Alberta  53.546218 -113.490371  \n",
       "..           ...          ...        ...         ...  \n",
       "265       Verner      Ontario  46.363530  -80.177220  \n",
       "266   Ile Bizard       Quebec  45.493332  -73.901847  \n",
       "267  Jerseyville      Ontario  43.188710  -80.041060  \n",
       "268      Halifax  Nova Scotia  44.648948  -63.572064  \n",
       "269       Guelph      Ontario  43.547065  -80.246659  \n",
       "\n",
       "[270 rows x 6 columns]"
      ]
     },
     "execution_count": 28,
     "metadata": {},
     "output_type": "execute_result"
    }
   ],
   "source": [
    "Lat_Lon_df=pd.DataFrame({'Venue':venue_array,\n",
    "                         'Address':address_array,\n",
    "                         'City':city_array,\n",
    "                         'State':states_array,\n",
    "                         'latitude': latitude_array,\n",
    "                         'longitude':longitude_array\n",
    "                        })\n",
    "Lat_Lon_df"
   ]
  },
  {
   "cell_type": "code",
   "execution_count": 29,
   "id": "dd0908e6-5813-4384-90c5-bbfb92625bad",
   "metadata": {},
   "outputs": [],
   "source": [
    "Lat_Lon_df.to_csv('Venue_locations.csv',index=False)"
   ]
  },
  {
   "cell_type": "code",
   "execution_count": null,
   "id": "0dcc6b3a-ab38-461f-ba5b-eecb16287eda",
   "metadata": {},
   "outputs": [],
   "source": []
  }
 ],
 "metadata": {
  "kernelspec": {
   "display_name": "Python 3 (ipykernel)",
   "language": "python",
   "name": "python3"
  },
  "language_info": {
   "codemirror_mode": {
    "name": "ipython",
    "version": 3
   },
   "file_extension": ".py",
   "mimetype": "text/x-python",
   "name": "python",
   "nbconvert_exporter": "python",
   "pygments_lexer": "ipython3",
   "version": "3.11.5"
  }
 },
 "nbformat": 4,
 "nbformat_minor": 5
}
