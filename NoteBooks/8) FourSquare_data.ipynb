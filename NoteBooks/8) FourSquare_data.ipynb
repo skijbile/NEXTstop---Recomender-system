{
 "cells": [
  {
   "cell_type": "markdown",
   "id": "cd2bc0cb-b519-453c-b865-c304086dd60b",
   "metadata": {},
   "source": [
    "##### This notebook loads the Venue_locations.csv to places of interest for the venues got from ticketmaster API\n",
    "##### It parses through the json files and saves the required data in FourSq_data.csv"
   ]
  },
  {
   "cell_type": "code",
   "execution_count": null,
   "id": "52300c83-4a26-4e2b-97d8-274fde7c704f",
   "metadata": {},
   "outputs": [],
   "source": [
    "import pandas as pd\n",
    "import json\n",
    "import os\n",
    "import requests\n",
    "from get_data_API import get_venues_fs\n",
    "FourSq_key=os.getenv('FOURSQUARE_API_KEY')\n"
   ]
  },
  {
   "cell_type": "code",
   "execution_count": null,
   "id": "8fa9845f-6185-4a79-a9eb-0a306747eac0",
   "metadata": {
    "scrolled": true
   },
   "outputs": [],
   "source": [
    "Lat_Lon_df=pd.read_csv('Venue_locations.csv')\n",
    "Lat_Lon_df"
   ]
  },
  {
   "cell_type": "markdown",
   "id": "06c14024-14e8-482c-b188-5ec4183fcee9",
   "metadata": {},
   "source": [
    "## Calling API to get data for the parameters set."
   ]
  },
  {
   "cell_type": "code",
   "execution_count": null,
   "id": "bb711c6d-0014-49b0-b6e3-2313e38722ff",
   "metadata": {
    "scrolled": true
   },
   "outputs": [],
   "source": [
    "places=[]\n",
    "\n",
    "for index, row in Lat_Lon_df.iterrows():\n",
    "    \n",
    "    venue=row['Venue']\n",
    "    lat=row['latitude']\n",
    "    lon=row['longitude']\n",
    "    res_fs = get_venues_fs(venue,lat,lon,FourSq_key)\n",
    "    if res_fs.status_code == 200:\n",
    "        data = res_fs.json()\n",
    "        if 'results' in data and len(data['results'])>0:\n",
    "            places.append(data['results'])\n",
    "        # dump data into json file\n",
    "            with open(f'foursq.json', 'w') as f: \n",
    "                    json.dump(places, f) \n",
    "            print(\"Data dumped for index:\", index)\n",
    "        else:\n",
    "            print(\"No businesses found in data for index:\", index)\n",
    "            places.append(\"N/A\")\n",
    "        \n",
    "    else:\n",
    "        print(f\"Error: {res.status_code}, {res.text}\")\n",
    "\n"
   ]
  },
  {
   "cell_type": "markdown",
   "id": "d1297c83-2650-47e7-a0fc-3fecf9bef122",
   "metadata": {},
   "source": [
    "## To extract required information from the json file"
   ]
  },
  {
   "cell_type": "code",
   "execution_count": null,
   "id": "30c12b07-f227-42d1-bfda-a1e7c5043993",
   "metadata": {},
   "outputs": [],
   "source": [
    "with open(f'foursq.json','r') as f:\n",
    "    places=json.load(f)"
   ]
  },
  {
   "cell_type": "code",
   "execution_count": null,
   "id": "135ab7c6-2187-49b9-9fbd-78f364cf0305",
   "metadata": {
    "scrolled": true
   },
   "outputs": [],
   "source": [
    "#places[0]#[0]#['categories'][0]\n",
    "#places[0][0]['distance']\n",
    "#places[0][0]['location']#['formatted_address']\n",
    "#places[20]#[0]['name']\n",
    "#places[0][1]#.keys()\n",
    "\n"
   ]
  },
  {
   "cell_type": "code",
   "execution_count": null,
   "id": "5382fee1-11a0-44f2-9695-e72e6729d100",
   "metadata": {},
   "outputs": [],
   "source": [
    "\"\"\"\n",
    "data required from the json files\n",
    "\n",
    "categories-name\n",
    "distance-\n",
    "location-formatted_address,address\n",
    "name\n",
    "\n",
    "\"\"\""
   ]
  },
  {
   "cell_type": "markdown",
   "id": "ed4b84ac-a3b1-4d29-9028-235ca4735df8",
   "metadata": {},
   "source": [
    "## Extracting the information required from json and matching it with the venues in the data frame above "
   ]
  },
  {
   "cell_type": "code",
   "execution_count": null,
   "id": "97e8da93-c81d-43d2-8d3d-01340a4ee3ac",
   "metadata": {},
   "outputs": [],
   "source": [
    "# create emply lists for \n",
    "category=[]\n",
    "distance_=[]\n",
    "address=[]\n",
    "POI=[]\n",
    "venue=[]\n",
    "city=[]\n",
    "state=[]\n",
    "latitu\n",
    "\n"
   ]
  },
  {
   "cell_type": "code",
   "execution_count": null,
   "id": "7825f91c-2ed0-462e-8b31-c795eb16ed67",
   "metadata": {
    "scrolled": true
   },
   "outputs": [],
   "source": [
    "# to iterate through the df, to get the places for each venue location \n",
    "\n",
    "for index, row in Lat_Lon_df.iterrows():\n",
    "    \n",
    "    Venue=row['Venue']\n",
    "    City=row['City']\n",
    "    State=row['State']\n",
    "#to get places from json to match the index of the venue\n",
    "    data=places[index]\n",
    "    \n",
    "    for items in data:\n",
    "        if isinstance(items, dict):  # Check if item is a dictionary\n",
    "            cat=[] # its nested hence we need to initialize the empty list inside\n",
    "            for id in items['categories']:\n",
    "            \n",
    "                cat.append(id['name'])\n",
    "            category.append(cat)\n",
    "        \n",
    "            distance_.append(items['distance'])\n",
    "# Get address information\n",
    "            location = items['location']\n",
    "            address_info = location.get('address')\n",
    "            if address_info:\n",
    "                address.append(address_info)\n",
    "            else:\n",
    "                address.append(location.get('formatted_address', 'N/A'))\n",
    "            POI.append(items['name'])\n",
    "            venue.append(Venue)\n",
    "            city.append(City)\n",
    "            state.append(State)\n",
    "        \n",
    "        else:\n",
    "            category.append('N/A')\n",
    "            address.append('N/A')\n",
    "            distance_.append('N/A')\n",
    "            POI.append('N/A')\n",
    "            venue.append(Venue)\n",
    "            city.append(City)\n",
    "            state.append(State)\n",
    "            \n",
    "  \n",
    "  \n",
    "foursq_df=pd.DataFrame({'Venue':venue,\n",
    "                        'City':city,\n",
    "                        'State':state,\n",
    "                        'POI':POI,\n",
    "                        'Category':category,\n",
    "                        'Address':address,\n",
    "                        'Distance From Venue':distance_\n",
    "                       })    \n",
    "        \n",
    "foursq_df.head()   \n",
    "    \n",
    "    "
   ]
  },
  {
   "cell_type": "code",
   "execution_count": null,
   "id": "57005ffa-cd8d-4ef8-83c0-29e18a7942b5",
   "metadata": {},
   "outputs": [],
   "source": [
    "# Convert lists to strings\n",
    "foursq_df['Category'] = foursq_df['Category'].apply(lambda x: ','.join(x) if isinstance(x, list) else x)\n",
    "foursq_df.head()"
   ]
  },
  {
   "cell_type": "code",
   "execution_count": null,
   "id": "9ab45e7d-3681-46d5-b704-00f80ec05021",
   "metadata": {},
   "outputs": [],
   "source": [
    "# Drop duplicates based on entire rows of data\n",
    "foursq_df.drop_duplicates(inplace=True)\n",
    "foursq_df.shape"
   ]
  },
  {
   "cell_type": "code",
   "execution_count": null,
   "id": "3b139a7a-b777-42b2-a99c-4d4bb602c134",
   "metadata": {},
   "outputs": [],
   "source": [
    "foursq_df.to_csv('FourSq_data.csv',index=False)"
   ]
  },
  {
   "cell_type": "code",
   "execution_count": null,
   "id": "1b21e724-6988-4c0b-bf2c-230afbfa3f80",
   "metadata": {},
   "outputs": [],
   "source": []
  }
 ],
 "metadata": {
  "kernelspec": {
   "display_name": "Python 3 (ipykernel)",
   "language": "python",
   "name": "python3"
  },
  "language_info": {
   "codemirror_mode": {
    "name": "ipython",
    "version": 3
   },
   "file_extension": ".py",
   "mimetype": "text/x-python",
   "name": "python",
   "nbconvert_exporter": "python",
   "pygments_lexer": "ipython3",
   "version": "3.11.5"
  }
 },
 "nbformat": 4,
 "nbformat_minor": 5
}
