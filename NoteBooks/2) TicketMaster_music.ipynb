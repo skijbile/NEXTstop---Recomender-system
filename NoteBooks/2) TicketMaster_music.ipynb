{
 "cells": [
  {
   "cell_type": "markdown",
   "id": "71e88173-e87e-4f96-ae47-2cc88fb5c824",
   "metadata": {},
   "source": [
    "##### This notebook loads the json file and parses through to get the required information \n",
    "##### It contains events related to music and is saved to TicketMaster_music.csv"
   ]
  },
  {
   "cell_type": "code",
   "execution_count": 1,
   "id": "c17830ea-80ea-4bfd-8a30-54df75e42c14",
   "metadata": {},
   "outputs": [],
   "source": [
    "import pandas as pd\n",
    "import json\n"
   ]
  },
  {
   "cell_type": "code",
   "execution_count": 2,
   "id": "131638ee-23d3-4e6e-a67e-bfda04294de0",
   "metadata": {},
   "outputs": [],
   "source": [
    "#load multiple json files in the notebook\n",
    "with open('Events_music.json', 'r') as f1:\n",
    "    data1=json.load(f1)\n",
    "\n",
    "with open('Events_999.json', 'r') as f2:\n",
    "    data2=json.load(f2)\n",
    "\n",
    "with open('Events_99.json', 'r') as f3:\n",
    "    data3=json.load(f3)\n",
    "\n",
    "with open('Events_49.json', 'r') as f4:\n",
    "    data4=json.load(f4)\n",
    "\n",
    "\n"
   ]
  },
  {
   "cell_type": "code",
   "execution_count": 68,
   "id": "14018adf-3e88-4e88-8d1b-08cea5b3a665",
   "metadata": {},
   "outputs": [
    {
     "data": {
      "text/plain": [
       "dict_keys(['name', 'type', 'id', 'test', 'url', 'locale', 'images', 'sales', 'dates', 'classifications', 'promoter', 'promoters', 'info', 'pleaseNote', 'priceRanges', 'seatmap', 'accessibility', 'ticketLimit', 'ageRestrictions', 'ticketing', '_links', '_embedded'])"
      ]
     },
     "execution_count": 68,
     "metadata": {},
     "output_type": "execute_result"
    }
   ],
   "source": [
    "# data required from the json files\n",
    "'''\n",
    "name\n",
    "sales-end date to purchase\n",
    "dates-start date,start time,time zone\n",
    "pleaseNote-info\n",
    "ticketLimit\n",
    "ageRestrictions-legal age enforced\n",
    "_embedded- name,address,city,state,(location-latitude,longitude)address,parking details,accessibility information\n",
    "'''\n",
    "data4[4].keys()#['_embedded']['venues'][0]#['address']['line1']\n"
   ]
  },
  {
   "cell_type": "code",
   "execution_count": 41,
   "id": "3648866f-cfae-4d98-937e-0b0755c6d555",
   "metadata": {},
   "outputs": [],
   "source": [
    "# create empty lists for all columns required\n",
    "\n",
    "Events = []\n",
    "Classifications=[]\n",
    "Event_dates=[]\n",
    "Event_start_times=[]\n",
    "Event_time_zone=[]\n",
    "Purchase_end_dates = []\n",
    "Venues=[]\n",
    "Cities = []\n",
    "States=[]\n",
    "Address_=[]\n",
    "Latitude_=[]\n",
    "Longitude_=[]\n",
    "Please_note_=[]\n",
    "Ticket_limits=[]\n",
    "Age_restrictions=[]\n",
    "Parking_=[]\n",
    "Accesibility_=[]"
   ]
  },
  {
   "cell_type": "code",
   "execution_count": 53,
   "id": "1dea947d-0266-4236-ac9b-bba740c8a25b",
   "metadata": {},
   "outputs": [],
   "source": [
    "# create loops to retrieve all the details required from json file\n",
    "\n",
    "# for loop will iterate through each list containing objects \n",
    "# iterates over 10 rows, change when you're done prototyping\n",
    "for event_name in data4:\n",
    "    \n",
    "     # access indivisual information \n",
    "        Event = event_name['name']\n",
    "        if 'classifications' in event_name and event_name['classifications']:\n",
    "        # Check if 'genre' key exists in the first element of 'classifications'\n",
    "            if 'genre' in event_name['classifications'][0]:\n",
    "                Classification = event_name['classifications'][0]['genre'].get('name', 'N/A')\n",
    "            else:\n",
    "                Classification = 'N/A'\n",
    "        else:\n",
    "            Classification = 'N/A'\n",
    "        Event_date=event_name['dates']['start']['localDate']\n",
    "        Event_start_time=event_name['dates']['start'].get('localTime',\"N/A\")\n",
    "        if 'dates' in event_name and 'timezone' in event_name['dates']:\n",
    "            Event_timezone = event_name['dates']['timezone']\n",
    "        else:\n",
    "            Event_timezone = 'Unknown'\n",
    "        Purchase_end_date = event_name['sales']['public'].get('endDateTime','N/A')\n",
    "        Venue=event_name['_embedded']['venues'][0]['name']\n",
    "        City = event_name['_embedded']['venues'][0]['city']['name']\n",
    "        Address=event_name['_embedded']['venues'][0]['address']['line1']\n",
    "        State=event_name['_embedded']['venues'][0]['state']['name']\n",
    "        \n",
    "        venue_info = event_name['_embedded']['venues'][0]\n",
    "        if 'location' in venue_info:\n",
    "            Latitude = venue_info['location'].get('latitude', 'N/A')\n",
    "            Longitude = venue_info['location'].get('longitude', 'N/A')\n",
    "        else:\n",
    "            Latitude = 'N/A'\n",
    "            Longitude = 'N/A'\n",
    "\n",
    "        # Handling optional keys in case the data is not available in the json, provide optional data\n",
    "        Please_note = event_name.get('pleaseNote', 'N/A')\n",
    "        \n",
    "        if 'ticketLimit' in event_name:\n",
    "            Ticket_limit = event_name['ticketLimit'].get('info', 'No ticket limit information available')\n",
    "        else:\n",
    "            Ticket_limit= 'No ticket limit information available'\n",
    "        \n",
    "        if 'ageRestrictions' in event_name:\n",
    "            Age_restriction = event_name['ageRestrictions'].get('legalAgeEnforced', 'N/A')\n",
    "        else:\n",
    "            Age_restriction = 'N/A'\n",
    "       \n",
    "        if '_embedded' in event_name and 'venues' in event_name['_embedded'] and event_name['_embedded']['venues']:\n",
    "            Parking = event_name['_embedded']['venues'][0].get('parkingDetail', 'N/A')\n",
    "        else:\n",
    "            Parking = 'Parking information not available'\n",
    "        if '_embedded' in event_name and 'venues' in event_name['_embedded'] and event_name['_embedded']['venues']:\n",
    "            Accesibility=event_name['_embedded']['venues'][0].get('accessibleSeatingDetail','N/A')\n",
    "        else:\n",
    "            Accesibility='N/A'\n",
    "\n",
    "        # append all the details to the empty lists\n",
    "    \n",
    "        Events.append(Event)\n",
    "        Classifications.append(Classification)\n",
    "        Event_dates.append(Event_date)\n",
    "        Event_start_times.append(Event_start_time)\n",
    "        Event_time_zone.append(Event_timezone)\n",
    "        Purchase_end_dates.append(Purchase_end_date)\n",
    "        Venues.append(Venue)\n",
    "        Cities.append(City)\n",
    "        Address_.append(Address)\n",
    "        States.append(State)\n",
    "        Latitude_.append(Latitude)\n",
    "        Longitude_.append(Longitude)\n",
    "        Please_note_.append(Please_note)\n",
    "        Ticket_limits.append(Ticket_limit)\n",
    "        Age_restrictions.append(Age_restriction)\n",
    "        Parking_.append(Parking)\n",
    "        Accesibility_.append(Accesibility)\n",
    "\n"
   ]
  },
  {
   "cell_type": "code",
   "execution_count": 54,
   "id": "4956715e-5e40-4e4d-8442-bd947009a7b2",
   "metadata": {},
   "outputs": [],
   "source": [
    "# Create a data dictionary \n",
    "\n",
    "data_dict={'Event_name':Events,\n",
    "           'Event_type':Classifications,\n",
    "           'Event_dates': Event_dates,\n",
    "           'Event_start_times':Event_start_times,\n",
    "           'Event_time_zone':Event_time_zone,\n",
    "           'Purchase_end_dates':Purchase_end_dates,\n",
    "           'Venues':Venues,\n",
    "           'City':Cities,\n",
    "           'States':States,\n",
    "           'Address':Address_,\n",
    "           'Latitude':Latitude_,\n",
    "           'Longitude':Longitude_,\n",
    "           'Additional_info':Please_note_,\n",
    "           'Ticket_limits':Ticket_limits,\n",
    "           'Age_restrictions':Age_restrictions,\n",
    "           'Parking':Parking_,\n",
    "           'Accesibility':Accesibility_\n",
    "        }"
   ]
  },
  {
   "cell_type": "code",
   "execution_count": 55,
   "id": "7b0fe6d5-0246-4a31-9453-9f194e1ceb33",
   "metadata": {},
   "outputs": [
    {
     "name": "stdout",
     "output_type": "stream",
     "text": [
      "{'Event_name': 2900, 'Event_type': 2900, 'Event_dates': 2900, 'Event_start_times': 2900, 'Event_time_zone': 2900, 'Purchase_end_dates': 2900, 'Venues': 2900, 'City': 2900, 'States': 2900, 'Address': 2900, 'Latitude': 2900, 'Longitude': 2900, 'Additional_info': 2900, 'Ticket_limits': 2900, 'Age_restrictions': 2900, 'Parking': 2900, 'Accesibility': 2900}\n"
     ]
    }
   ],
   "source": [
    "# Check lengths of all lists or arrays in the data_dict\n",
    "lengths = {key: len(value) for key, value in data_dict.items()}\n",
    "print(lengths)"
   ]
  },
  {
   "cell_type": "code",
   "execution_count": 62,
   "id": "3feeaebf-711d-4841-8201-3fa424581587",
   "metadata": {
    "scrolled": true
   },
   "outputs": [
    {
     "data": {
      "text/plain": [
       "(2900, 17)"
      ]
     },
     "execution_count": 62,
     "metadata": {},
     "output_type": "execute_result"
    }
   ],
   "source": [
    "# Create Dataframe\n",
    "\n",
    "music_df=pd.DataFrame(data=data_dict) # use the data dictionary to create data frame \n",
    "music_df.shape"
   ]
  },
  {
   "cell_type": "code",
   "execution_count": 61,
   "id": "9681addb-ccf4-413a-b10e-f4f088d421b5",
   "metadata": {},
   "outputs": [
    {
     "data": {
      "text/plain": [
       "(1000, 17)"
      ]
     },
     "execution_count": 61,
     "metadata": {},
     "output_type": "execute_result"
    }
   ],
   "source": [
    "music_df.drop_duplicates().shape"
   ]
  },
  {
   "cell_type": "code",
   "execution_count": 63,
   "id": "ca62d343-dfda-4fa7-8976-e92ad42fe061",
   "metadata": {},
   "outputs": [],
   "source": [
    "# Create csv from Data frame\n",
    "music_df.to_csv('TicketMaster_music.csv',index=False)"
   ]
  },
  {
   "cell_type": "code",
   "execution_count": null,
   "id": "a1719034-85fc-483b-b621-87027bf5a1fa",
   "metadata": {},
   "outputs": [],
   "source": []
  }
 ],
 "metadata": {
  "kernelspec": {
   "display_name": "Python 3 (ipykernel)",
   "language": "python",
   "name": "python3"
  },
  "language_info": {
   "codemirror_mode": {
    "name": "ipython",
    "version": 3
   },
   "file_extension": ".py",
   "mimetype": "text/x-python",
   "name": "python",
   "nbconvert_exporter": "python",
   "pygments_lexer": "ipython3",
   "version": "3.11.5"
  }
 },
 "nbformat": 4,
 "nbformat_minor": 5
}
