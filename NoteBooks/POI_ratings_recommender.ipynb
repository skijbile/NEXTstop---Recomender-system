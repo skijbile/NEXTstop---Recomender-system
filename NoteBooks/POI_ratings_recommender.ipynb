{
 "cells": [
  {
   "cell_type": "markdown",
   "id": "57f63a73-8e23-438f-8d5c-e7de02047fce",
   "metadata": {},
   "source": [
    "Here we mainly focus on getting an output for our recommender given a user and city of choice. There is some pre-processing involved to get the desired columns in the form of a dataframe.\n",
    "You can run this notebook to see the outcome if you do not want to use the streamlit app"
   ]
  },
  {
   "cell_type": "code",
   "execution_count": null,
   "id": "69364aad-22be-47c5-ade6-e3f34f90c095",
   "metadata": {
    "jupyter": {
     "source_hidden": true
    }
   },
   "outputs": [],
   "source": [
    "import pandas as pd\n",
    "import numpy as np"
   ]
  },
  {
   "cell_type": "code",
   "execution_count": null,
   "id": "dd7edae8-c527-41ae-a5b6-a6cdbe065be7",
   "metadata": {},
   "outputs": [],
   "source": [
    "# import all required csv's for output\n",
    "yelp_POI=pd.read_csv('Yelp_data_1EDA.csv')\n",
    "TM_events=pd.read_csv('TM_data_EDA.csv')\n",
    "foursq_POI=pd.read_csv('FourSq_data_EDA.csv')"
   ]
  },
  {
   "cell_type": "code",
   "execution_count": null,
   "id": "79f6dfc1-f783-49ae-a756-b742c4d44306",
   "metadata": {},
   "outputs": [],
   "source": [
    "foursq_POI.head()"
   ]
  },
  {
   "cell_type": "code",
   "execution_count": null,
   "id": "273fd395-10de-406c-bbe0-0f5bd08aa68d",
   "metadata": {},
   "outputs": [],
   "source": [
    "# fix the data frames for the output\n",
    "# by dropping columns\n",
    "# by re-arranging the columns\n",
    "# by renaming columns names\n",
    "\n",
    "columns_to_drop1=[\"Business ID\",\"State_x\",\"Latitude\",\"Longitude\",\"latitude\",\"longitude\",\"Address_y\"]\n",
    "yelp_POI.drop(columns=columns_to_drop1,inplace=True,axis=1)\n",
    "desired_columns_1=['Name', 'Category','Ratings', 'Pricing','Address_x' , 'City','State_y','Distance_From_Venue',\n",
    "       'Venue']\n",
    "yelp_POI=yelp_POI[desired_columns_1]\n",
    "column_mapping={'Address_x' :'Address',\n",
    "                'State_y':'State'}\n",
    "yelp_POI.rename(columns=column_mapping,inplace=True)\n",
    "\n",
    "                \n",
    "columns_to_drop_2=[\"Latitude\",\"Longitude\"]\n",
    "TM_events.drop(columns=columns_to_drop_2,inplace=True,axis=1)\n",
    "desired_columns_2=['Event_name', 'Event_type', 'Event_dates', 'Event_start_times','Last_Purchase_Date',\n",
    "       'Event_time_zone', 'Venues', 'City', 'States', 'Address','Additional_info', 'Ticket_limits', 'Age_restrictions',\n",
    "       'Parking', 'Accesibility']\n",
    "TM_events=TM_events[desired_columns_2]\n",
    "\n",
    "\n",
    "foursq_POI.reset_index(drop=True, inplace=True)\n",
    "desired_columns_3=[\"POI\",\"Category\",\"Address\",\"City\",\"State\",\"Distance From Venue\",\"Venue\"]\n",
    "foursq_POI=foursq_POI[desired_columns_3]\n",
    "\n",
    "\n"
   ]
  },
  {
   "cell_type": "code",
   "execution_count": null,
   "id": "9e8119bc-269b-43f4-ba85-3cf01c6eab52",
   "metadata": {},
   "outputs": [],
   "source": [
    "foursq_POI.head()"
   ]
  },
  {
   "cell_type": "code",
   "execution_count": null,
   "id": "48f94c41-cd81-4c75-9b90-495262ce330c",
   "metadata": {},
   "outputs": [],
   "source": [
    "# import data for the recommender\n",
    "venue_ratings=pd.read_csv('Venue_Reviews.csv')\n",
    "#venue_ratings.head()"
   ]
  },
  {
   "cell_type": "code",
   "execution_count": null,
   "id": "be0fb843-3522-4980-8ff6-d683c2fb6a7e",
   "metadata": {},
   "outputs": [],
   "source": [
    "venue_ratings.rename(columns={'Event_type': 'Category'}, inplace=True)\n",
    "#venue_ratings.columns"
   ]
  },
  {
   "cell_type": "code",
   "execution_count": null,
   "id": "d6e4bafa-ec65-40f0-9b90-243e5d9832b4",
   "metadata": {},
   "outputs": [],
   "source": [
    "# import data for the recommender\n",
    "POI_ratings=pd.read_csv('POI_Ratings.csv')"
   ]
  },
  {
   "cell_type": "code",
   "execution_count": null,
   "id": "7afc14df-72f9-4ba3-8f39-7105cc91afdd",
   "metadata": {},
   "outputs": [],
   "source": [
    "ratings_df=pd.concat([venue_ratings,POI_ratings])"
   ]
  },
  {
   "cell_type": "code",
   "execution_count": null,
   "id": "8bd681ea-8070-46f9-8c2d-314b167c15a2",
   "metadata": {},
   "outputs": [],
   "source": [
    "#ratings_df.shape"
   ]
  },
  {
   "cell_type": "code",
   "execution_count": null,
   "id": "21e0ac06-5c2c-4a50-9582-fa02928dc4c0",
   "metadata": {},
   "outputs": [],
   "source": [
    "ratings_df.drop_duplicates()#.shape"
   ]
  },
  {
   "cell_type": "code",
   "execution_count": null,
   "id": "59ed2e60-95bf-4102-83ab-e442de39aab9",
   "metadata": {},
   "outputs": [],
   "source": [
    "# drop columns not required\n",
    "columns_to_drop=['Address_y','latitude','longitude']\n",
    "ratings_df.drop(columns=columns_to_drop,axis=1,inplace=True)"
   ]
  },
  {
   "cell_type": "code",
   "execution_count": null,
   "id": "38f0c78d-4535-46be-87de-9597df76e0bf",
   "metadata": {},
   "outputs": [],
   "source": [
    "ratings_df['city'].fillna(ratings_df['City'],inplace=True)"
   ]
  },
  {
   "cell_type": "code",
   "execution_count": null,
   "id": "493c207d-28fc-45d5-bc59-ba08417f21ec",
   "metadata": {},
   "outputs": [],
   "source": [
    "ratings_df=ratings_df.drop_duplicates()\n",
    "ratings_df.drop(['City'],inplace=True,axis=1)"
   ]
  },
  {
   "cell_type": "markdown",
   "id": "3d74a365-6b06-4e36-b6a4-6eb6ed75e1b8",
   "metadata": {},
   "source": [
    " change the NaN ratings to -1 to indicate that they are missing, and convert the user_id,user_name to string \"Not available\" so that there are no NaN values in the matrix \n"
   ]
  },
  {
   "cell_type": "code",
   "execution_count": null,
   "id": "fdf26035-cb30-4c33-a4dd-b807a7cfe842",
   "metadata": {},
   "outputs": [],
   "source": [
    "ratings_df['ratings']=ratings_df['ratings'].replace(np.nan,-1)\n",
    "ratings_df[['user_id','user_name']]=ratings_df[['user_id','user_name']].replace(np.nan,\"Ratings not available\")\n"
   ]
  },
  {
   "cell_type": "markdown",
   "id": "8ec916a1-01f2-4e65-8a10-8fe4a7aedb62",
   "metadata": {},
   "source": [
    "# Build Recommender"
   ]
  },
  {
   "cell_type": "code",
   "execution_count": null,
   "id": "46859731-4a4e-49ec-b0b3-396e0c61d0c8",
   "metadata": {},
   "outputs": [],
   "source": [
    "# Create the pivot table\n",
    "recommender_matrix = ratings_df.pivot_table(index='user_id', columns='Category', values='ratings')\n"
   ]
  },
  {
   "cell_type": "code",
   "execution_count": null,
   "id": "355e79f5-80c6-4e56-aef0-c4b145b85e14",
   "metadata": {},
   "outputs": [],
   "source": [
    "user_city= \"Toronto\" # filter for the ratings to only show those options\n",
    "user= \"Colin S.\"     # select user login\n",
    "matched_user=ratings_df[ratings_df['user_name']==user]\n",
    "matched_id=matched_user['user_id'].unique()\n",
    "#matched_id"
   ]
  },
  {
   "cell_type": "code",
   "execution_count": null,
   "id": "3677eb2a-064c-4051-816d-b8c4f83efe31",
   "metadata": {},
   "outputs": [],
   "source": [
    "from sklearn.metrics.pairwise import cosine_similarity\n",
    "\n",
    "# Compute similarity matrix\n",
    "similarity_matrix = cosine_similarity(recommender_matrix.fillna(0))\n",
    "\n",
    "# Convert similarity matrix into DataFrame\n",
    "similarity_df = pd.DataFrame(similarity_matrix, index=recommender_matrix.index, columns=recommender_matrix.index)\n"
   ]
  },
  {
   "cell_type": "code",
   "execution_count": null,
   "id": "186e21f3-f55f-402b-97b5-c574f2e407c0",
   "metadata": {},
   "outputs": [],
   "source": [
    "# Find users similar to selected user\n",
    "similarities_to_given_user = similarity_df.loc[matched_id[0]].sort_values(ascending=False)\n",
    "# similarities_to_given_user"
   ]
  },
  {
   "cell_type": "code",
   "execution_count": null,
   "id": "c7e5ae76-d253-4a33-9e74-b301de4e824c",
   "metadata": {},
   "outputs": [],
   "source": [
    "# Return a df of similar users\n",
    "similar_users_data = []\n",
    "\n",
    "# Iterate over the index of similarities_to_given_user\n",
    "for user_id in similarities_to_given_user[similarities_to_given_user != 0].index:\n",
    "    # Filter ratings_df for rows with matching user IDs\n",
    "    similar_user_data = ratings_df[ratings_df['user_id'] == user_id]\n",
    "    \n",
    "    # Append the filtered data to similar_users_data list\n",
    "    similar_users_data.append(similar_user_data)\n",
    "\n",
    "# Concatenate the filtered data into a single DataFrame\n",
    "similar_users_df = pd.concat(similar_users_data)\n"
   ]
  },
  {
   "cell_type": "code",
   "execution_count": null,
   "id": "508c37b2-8012-40f2-94e7-5ffcff8a6fc0",
   "metadata": {},
   "outputs": [],
   "source": [
    "# Return a df of venues not similar but as suggestions\n",
    "dis_similar = []\n",
    "\n",
    "# Iterate over the index of similarities_to_given_user\n",
    "for user_id in similarities_to_given_user[similarities_to_given_user == 0].index:\n",
    "    # Filter ratings_df for rows with matching user IDs\n",
    "    dis_similar_data = ratings_df[ratings_df['user_id'] == user_id]\n",
    "    \n",
    "    # Append the filtered data to similar_users_data list\n",
    "    dis_similar.append(dis_similar_data)\n",
    "\n",
    "# Concatenate the filtered data into a single DataFrame\n",
    "suggestions = pd.concat(dis_similar)"
   ]
  },
  {
   "cell_type": "code",
   "execution_count": null,
   "id": "f78c1d73-1f6a-45df-b6e8-5e57f5254c1b",
   "metadata": {},
   "outputs": [],
   "source": [
    "# Calculate average ratings by venue for dis-similar items\n",
    "\n",
    "average_ratings_by_venue = suggestions.groupby('venue')['ratings'].mean().reset_index()\n",
    "average_ratings_by_venue.columns = ['venue', 'average_ratings']  # Rename columns for clarity\n",
    "average_ratings_by_venue['average_ratings'] = average_ratings_by_venue['average_ratings'].round(1) # round the value to 1 decimal\n",
    "\n",
    "# Merge average ratings back into the original DataFrame\n",
    "suggestions_with_avg_ratings = pd.merge(suggestions, average_ratings_by_venue, on='venue', how='left')\n",
    "sorted_suggestions=suggestions_with_avg_ratings.sort_values(by='average_ratings', ascending=False)\n"
   ]
  },
  {
   "cell_type": "code",
   "execution_count": null,
   "id": "b130b7b9-43b9-46af-9b10-6aef2a4a5fa7",
   "metadata": {},
   "outputs": [],
   "source": [
    "similar_users_df=similar_users_df[similar_users_df['city']==user_city]\n",
    "#similar_users_df['venue'].unique()"
   ]
  },
  {
   "cell_type": "code",
   "execution_count": null,
   "id": "313765a2-2406-44ab-9e80-195a64987997",
   "metadata": {},
   "outputs": [],
   "source": [
    "# we use the sorted suggestions to view places with higher ratings \n",
    "sorted_suggestions=sorted_suggestions[sorted_suggestions['city']==user_city]"
   ]
  },
  {
   "cell_type": "markdown",
   "id": "19920512-69d6-4ee9-965a-9a5e344700bb",
   "metadata": {},
   "source": [
    "# Recommender output"
   ]
  },
  {
   "cell_type": "code",
   "execution_count": null,
   "id": "944b0496-8f4c-49e9-bd31-b905f6c86a11",
   "metadata": {},
   "outputs": [],
   "source": [
    "restaurants=[]\n",
    "Events=[]\n",
    "POI=[]"
   ]
  },
  {
   "cell_type": "code",
   "execution_count": null,
   "id": "683106ec-cc46-4b0e-b3e2-c2d9b43155b6",
   "metadata": {},
   "outputs": [],
   "source": [
    "for item in similar_users_df['venue'].unique():\n",
    "    for index,row in yelp_POI.iterrows():\n",
    "        if item in row['Name'] and row['City']==user_city:\n",
    "            restaurants.append(row)\n",
    "            break\n",
    "    for index1, row1 in foursq_POI.iterrows():\n",
    "        poi_value = row1['POI']\n",
    "        if isinstance(poi_value, str) and row1['City']==user_city and item in poi_value :\n",
    "            POI.append(row1)\n",
    "            break  # Stop searching after finding a match\n",
    "\n",
    "    for index2,row2 in TM_events.iterrows() :\n",
    "        if item in row2['Venues'] and row2['City']==user_city:\n",
    "            Events.append(row2)\n",
    "            break\n",
    "                \n",
    "    \n",
    "    \n",
    "#print(len(restaurants),len(Events),len(POI))    "
   ]
  },
  {
   "cell_type": "code",
   "execution_count": null,
   "id": "d13362d6-7de8-44e4-96fb-f85f1763b475",
   "metadata": {},
   "outputs": [],
   "source": [
    "suggested_restaurant=[]\n",
    "suggested_POI=[]\n",
    "suggested_events=[]"
   ]
  },
  {
   "cell_type": "code",
   "execution_count": null,
   "id": "d4897da3-189a-4124-9502-8f9303647e70",
   "metadata": {},
   "outputs": [],
   "source": [
    "for items in sorted_suggestions['venue'].unique():\n",
    "    for index,row in yelp_POI.iterrows():\n",
    "        if items in row['Name'] and row['City']==user_city:\n",
    "            suggested_restaurant.append(row)\n",
    "            break\n",
    "    for index1, row1 in foursq_POI.iterrows():\n",
    "        poi_value = row1['POI']\n",
    "        if isinstance(poi_value, str) and items in poi_value and row1['City']==user_city:\n",
    "            suggested_POI.append(row1)\n",
    "            break  # Stop searching after finding a match\n",
    "\n",
    "    for index2,row2 in TM_events.iterrows() :\n",
    "        if items in row2['Venues'] and row2['City']==user_city:\n",
    "            suggested_events.append(row2)\n",
    "            break\n",
    "                \n",
    "    \n",
    "    \n",
    "#print(len(suggested_restaurant),len(suggested_events),len(suggested_POI))  "
   ]
  },
  {
   "cell_type": "code",
   "execution_count": null,
   "id": "63f8b4c4-725a-42f9-9241-ccd3794072fd",
   "metadata": {},
   "outputs": [],
   "source": [
    "R=pd.DataFrame(restaurants)\n",
    "E=pd.DataFrame(Events)\n",
    "P=pd.DataFrame(POI)\n",
    "SR=pd.DataFrame(suggested_restaurant)\n",
    "SE=pd.DataFrame(suggested_events)\n",
    "SP=pd.DataFrame(suggested_POI)\n",
    "\n"
   ]
  },
  {
   "cell_type": "code",
   "execution_count": null,
   "id": "e570b04e-5a97-4cbb-959c-aaff283dd3a5",
   "metadata": {},
   "outputs": [],
   "source": [
    "# Display recommendations\n",
    "    print(\"Top Recommendations for : \",selected_user)\n",
    "    if len(restaurants)>0:\n",
    "       \n",
    "        R.reset_index(drop=True, inplace=True)  # Reset index\n",
    "        # Setting index starting from 1\n",
    "        R.index = R.index + 1\n",
    "        print(\"Restaurants in the area :\")\n",
    "        R.head(10)\n",
    "    else:\n",
    "        SR.reset_index(drop=True, inplace=True)  # Reset index\n",
    "        # Setting index starting from 1\n",
    "        SR.index = SR.index + 1\n",
    "        print(\"People have also liked :\")\n",
    "        SR.head()\n",
    "        \n",
    "    if len(Events)>0:\n",
    "      \n",
    "        E.reset_index(drop=True, inplace=True)  # Reset index\n",
    "        # Setting index starting from 1\n",
    "        E.index = E.index + 1\n",
    "        print(\"Events to attend : \")\n",
    "        E.head(10)\n",
    "    else:\n",
    "        print(\"No restaurant recommendations available.\")\n",
    "        SE.reset_index(drop=True, inplace=True)  # Reset index\n",
    "        # Setting index starting from 1\n",
    "        SE.index = SE.index + 1\n",
    "        print(\"Other options : \")\n",
    "        SE.head()\n",
    "\n",
    "    if len(POI)>0 :\n",
    "        P.reset_index(drop=True, inplace=True) # Reset index\n",
    "        # Setting index starting from 1\n",
    "        P.index = P.index + 1\n",
    "        print(\"Places to visit :\")\n",
    "        P.head(10)\n",
    "    else:\n",
    "        if len(suggested_POI)> 0:\n",
    "          SP.reset_index(drop=True, inplace=True) # Reset index\n",
    "        # Setting index starting from 1\n",
    "          SP.index = SP.index + 1\n",
    "          print(\"People have also visited :\")\n",
    "          SP.head()\n",
    "        else:\n",
    "            print(\"No recommendations.\")\n",
    "        print(\"No recommendations.\")"
   ]
  }
 ],
 "metadata": {
  "kernelspec": {
   "display_name": "Python 3 (ipykernel)",
   "language": "python",
   "name": "python3"
  },
  "language_info": {
   "codemirror_mode": {
    "name": "ipython",
    "version": 3
   },
   "file_extension": ".py",
   "mimetype": "text/x-python",
   "name": "python",
   "nbconvert_exporter": "python",
   "pygments_lexer": "ipython3",
   "version": "3.11.5"
  }
 },
 "nbformat": 4,
 "nbformat_minor": 5
}
