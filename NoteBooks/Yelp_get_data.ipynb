{
 "cells": [
  {
   "cell_type": "code",
   "execution_count": 1,
   "id": "413ead8d-aa76-4ae6-930e-e70a92af11f5",
   "metadata": {
    "scrolled": true
   },
   "outputs": [
    {
     "name": "stdout",
     "output_type": "stream",
     "text": [
      "6IU9EKTbYCfp6pBKhQLLhLrDcfIPWGDGKvLZsnU6TzdO2Oo5iipHNvTFsWwJvdKEV3MVsUd46gIG4nRhNd6IH3TmMj2figX0NI2hwFhd0NFgPmLQq47n--FyQo1uZXYx\n"
     ]
    }
   ],
   "source": [
    "import pandas as pd\n",
    "import requests\n",
    "import json\n",
    "import os\n",
    "Yelp_key=os.getenv('Yelp_API')\n",
    "from get_data_API import get_venues_yelp\n",
    "from get_data_API import get_events_yelp\n",
    "from get_data_API import get_business_match\n",
    "from get_data_API import get_reviews\n",
    "print(Yelp_key)"
   ]
  },
  {
   "cell_type": "code",
   "execution_count": null,
   "id": "b6d51784-b074-41ec-8a40-0775199245c1",
   "metadata": {},
   "outputs": [],
   "source": [
    "## to verify the funtion is imported correctly\n",
    "get_venues_yelp\n",
    "get_events_yelp\n",
    "get_business_match"
   ]
  },
  {
   "cell_type": "code",
   "execution_count": null,
   "id": "687ce09b-c551-4415-bca0-e86488302bf3",
   "metadata": {},
   "outputs": [],
   "source": [
    "Venue_df=pd.read_csv('Venue_locations.csv')\n",
    "Venue_df.head()"
   ]
  },
  {
   "cell_type": "code",
   "execution_count": null,
   "id": "eeb8edba-923c-4d21-a5e2-baeb3d5bbd2a",
   "metadata": {},
   "outputs": [],
   "source": [
    "unique_states = Venue_df['State'].unique()\n",
    "print(unique_states)"
   ]
  },
  {
   "cell_type": "code",
   "execution_count": null,
   "id": "f8da0f99-bf14-4427-b174-d3f93f6e031c",
   "metadata": {
    "scrolled": true
   },
   "outputs": [],
   "source": [
    "# map the states and make the changes in place in the data frame\n",
    "\n",
    "state_mapping = {\n",
    "    'Ontario': 'ON',\n",
    "    'Alberta':'AB',\n",
    "    'British Columbia':'BC',\n",
    "    'Nova Scotia':'NS',\n",
    "    'Quebec':'QC'\n",
    "}\n",
    "\n",
    "Venue_df['State'] = Venue_df['State'].map(state_mapping).fillna(Venue_df['State'])\n",
    "Venue_df\n"
   ]
  },
  {
   "cell_type": "markdown",
   "id": "841235d4-c212-4756-b849-755287eed1bc",
   "metadata": {},
   "source": [
    "## Call get_venues_yelp to get businesses in the area using latitude and longitude"
   ]
  },
  {
   "cell_type": "code",
   "execution_count": null,
   "id": "7e68724f-aae5-4043-ba21-074a4c973662",
   "metadata": {
    "scrolled": true
   },
   "outputs": [],
   "source": [
    "# yelp_data=[]\n",
    "\n",
    "\n",
    "# for index, row in Lat_Lon_df[:1].iterrows():\n",
    "#     lat=row['latitude']\n",
    "#     lon=row['longitude']\n",
    "#     res_yelp = get_venues_yelp(lat,lon,Yelp_key)\n",
    "#     if res_yelp.status_code == 200:\n",
    "#         data = res_yelp.json()\n",
    "#         if 'businesses' in data:\n",
    "#             yelp_data.extend(data['businesses'])\n",
    "#         # dump data into json file\n",
    "#             with open(f'yelp.json', 'w') as f: \n",
    "#                     json.dump(yelp_data, f) \n",
    "#             print(\"Data dumped for index:\", index)\n",
    "#         else:\n",
    "#             print(\"No businesses found in data for index:\", index)\n",
    "\n",
    "        \n",
    "\n",
    "#     else:\n",
    "#         print(f\"Error: {res.status_code}, {res.text}\")\n",
    "\n",
    "# print(\"END of list\") # to know end of iteration\n"
   ]
  },
  {
   "cell_type": "markdown",
   "id": "3dce1ffc-71b9-4a44-bac8-7b388a08bcc5",
   "metadata": {},
   "source": [
    "## Call get_business_match to get business id for unique venues in the data set"
   ]
  },
  {
   "cell_type": "code",
   "execution_count": null,
   "id": "22eb5ddb-e44c-4d73-a37b-d8199cce0e9d",
   "metadata": {},
   "outputs": [],
   "source": [
    "# business_id=[]\n",
    "# business_name=[]\n",
    "\n",
    "# for index, row in Venue_df.iterrows():\n",
    "#     name=row['Venue']\n",
    "#     address=row['Address']\n",
    "#     city=row['City']\n",
    "#     state=row['State']\n",
    "#     res_id = get_business_match(name,address,city,state,Yelp_key)\n",
    "#     if res_id.status_code == 200:\n",
    "#         data = res_id.json()\n",
    "#        # Check if 'businesses' key exists in the JSON response and if it's not empty\n",
    "#         if 'businesses' in data and len(data['businesses']) > 0:\n",
    "#             business_id.append(data['businesses'][0]['id']) # only grab business id from the json\n",
    "#             business_name.append(data['businesses'][0]['name']) # only grab name from json\n",
    "#         else:\n",
    "#             business_id.append('Not available')\n",
    "#             business_name.append(name)\n",
    "#     else:\n",
    "#          print(f\"Error: {res.status_code}, {res.text}\")\n",
    "\n",
    "# print(len(business_name))"
   ]
  },
  {
   "cell_type": "code",
   "execution_count": null,
   "id": "3d1b1bb8-1ffc-40f3-af89-91a402910aa1",
   "metadata": {},
   "outputs": [],
   "source": [
    "business_name"
   ]
  },
  {
   "cell_type": "code",
   "execution_count": null,
   "id": "ba03c9c3-2bfa-4785-abce-db1b5e16f398",
   "metadata": {},
   "outputs": [],
   "source": [
    "Business_df=pd.DataFrame({'business_id':business_id,\n",
    "                        'business_name':business_name})\n",
    "Business_df.to_csv('Business_info.csv',index=False)"
   ]
  },
  {
   "cell_type": "markdown",
   "id": "cfcaa448-30f7-4c7d-a8f2-cd7c51127cb7",
   "metadata": {},
   "source": [
    "## Call  get_reviews using the business id provided above in Business_df to get review and rating information "
   ]
  },
  {
   "cell_type": "code",
   "execution_count": 2,
   "id": "43e1e758-5f4d-445d-8cd8-1fe540135fc9",
   "metadata": {
    "scrolled": true
   },
   "outputs": [
    {
     "data": {
      "text/html": [
       "<div>\n",
       "<style scoped>\n",
       "    .dataframe tbody tr th:only-of-type {\n",
       "        vertical-align: middle;\n",
       "    }\n",
       "\n",
       "    .dataframe tbody tr th {\n",
       "        vertical-align: top;\n",
       "    }\n",
       "\n",
       "    .dataframe thead th {\n",
       "        text-align: right;\n",
       "    }\n",
       "</style>\n",
       "<table border=\"1\" class=\"dataframe\">\n",
       "  <thead>\n",
       "    <tr style=\"text-align: right;\">\n",
       "      <th></th>\n",
       "      <th>business_id</th>\n",
       "      <th>business_name</th>\n",
       "    </tr>\n",
       "  </thead>\n",
       "  <tbody>\n",
       "    <tr>\n",
       "      <th>0</th>\n",
       "      <td>d-KglT1T_hRAhMX9ZS-NNw</td>\n",
       "      <td>Rogers centre</td>\n",
       "    </tr>\n",
       "    <tr>\n",
       "      <th>1</th>\n",
       "      <td>0T_ldrH4Nb-68dKfQeG4Hg</td>\n",
       "      <td>Commonwealth Stadium</td>\n",
       "    </tr>\n",
       "    <tr>\n",
       "      <th>2</th>\n",
       "      <td>bh67RoRTXUcvtdFcHMHVCw</td>\n",
       "      <td>Rogers Arena</td>\n",
       "    </tr>\n",
       "    <tr>\n",
       "      <th>3</th>\n",
       "      <td>CORxCnRIz5bH5akojYdQxg</td>\n",
       "      <td>Celebrities Nightclub</td>\n",
       "    </tr>\n",
       "    <tr>\n",
       "      <th>4</th>\n",
       "      <td>0JUwLV3LFie94J4_aFnORQ</td>\n",
       "      <td>The Palace Theatre</td>\n",
       "    </tr>\n",
       "    <tr>\n",
       "      <th>5</th>\n",
       "      <td>rB_A9FBY0raeBpIps1V3Lw</td>\n",
       "      <td>The Velvet Underground</td>\n",
       "    </tr>\n",
       "    <tr>\n",
       "      <th>6</th>\n",
       "      <td>SvqIBqjFZ0uIM5fr81NyWw</td>\n",
       "      <td>Pier 21 National Historic Site</td>\n",
       "    </tr>\n",
       "    <tr>\n",
       "      <th>7</th>\n",
       "      <td>CQ8kaEtXdZs0bE17A-qF2w</td>\n",
       "      <td>Fortune Sound Club</td>\n",
       "    </tr>\n",
       "    <tr>\n",
       "      <th>8</th>\n",
       "      <td>Not available</td>\n",
       "      <td>Sharon Hope United Church</td>\n",
       "    </tr>\n",
       "    <tr>\n",
       "      <th>9</th>\n",
       "      <td>XiB81iBFwkyOowO6ENSkqQ</td>\n",
       "      <td>Rum Runners Music Hall</td>\n",
       "    </tr>\n",
       "    <tr>\n",
       "      <th>10</th>\n",
       "      <td>Not available</td>\n",
       "      <td>Meridian Central Station</td>\n",
       "    </tr>\n",
       "    <tr>\n",
       "      <th>11</th>\n",
       "      <td>e7ZUzqBL4UWDUksspMBuUA</td>\n",
       "      <td>Century Casino Edmonton</td>\n",
       "    </tr>\n",
       "    <tr>\n",
       "      <th>12</th>\n",
       "      <td>w7oavNpCB9O0b3sE9fgK1Q</td>\n",
       "      <td>The Elgin &amp; Winter Garden Theatre Centre</td>\n",
       "    </tr>\n",
       "    <tr>\n",
       "      <th>13</th>\n",
       "      <td>Not available</td>\n",
       "      <td>Village Studios</td>\n",
       "    </tr>\n",
       "    <tr>\n",
       "      <th>14</th>\n",
       "      <td>z8u6tnpL70UNr1CvS9PS7g</td>\n",
       "      <td>Le Club</td>\n",
       "    </tr>\n",
       "    <tr>\n",
       "      <th>15</th>\n",
       "      <td>4ton1e2nBAg-ILdWezGAXQ</td>\n",
       "      <td>Capitole de Québec</td>\n",
       "    </tr>\n",
       "    <tr>\n",
       "      <th>16</th>\n",
       "      <td>7YYrZ9LgjpKLTtF-huhJug</td>\n",
       "      <td>Scotiabank Arena</td>\n",
       "    </tr>\n",
       "    <tr>\n",
       "      <th>17</th>\n",
       "      <td>gM9MdaKczcK4jjNgCOB84Q</td>\n",
       "      <td>Canadian Tire Centre</td>\n",
       "    </tr>\n",
       "    <tr>\n",
       "      <th>18</th>\n",
       "      <td>Rz0w7gqria2kjLL6G8Ea0g</td>\n",
       "      <td>Rogers Place</td>\n",
       "    </tr>\n",
       "    <tr>\n",
       "      <th>19</th>\n",
       "      <td>fAczVm0LU-mmIPRz1VIIYA</td>\n",
       "      <td>Scotiabank Saddledome</td>\n",
       "    </tr>\n",
       "    <tr>\n",
       "      <th>20</th>\n",
       "      <td>HtJPAQlsyT3iIa26TfOXlA</td>\n",
       "      <td>Bell Centre</td>\n",
       "    </tr>\n",
       "  </tbody>\n",
       "</table>\n",
       "</div>"
      ],
      "text/plain": [
       "               business_id                             business_name\n",
       "0   d-KglT1T_hRAhMX9ZS-NNw                             Rogers centre\n",
       "1   0T_ldrH4Nb-68dKfQeG4Hg                      Commonwealth Stadium\n",
       "2   bh67RoRTXUcvtdFcHMHVCw                              Rogers Arena\n",
       "3   CORxCnRIz5bH5akojYdQxg                     Celebrities Nightclub\n",
       "4   0JUwLV3LFie94J4_aFnORQ                        The Palace Theatre\n",
       "5   rB_A9FBY0raeBpIps1V3Lw                    The Velvet Underground\n",
       "6   SvqIBqjFZ0uIM5fr81NyWw            Pier 21 National Historic Site\n",
       "7   CQ8kaEtXdZs0bE17A-qF2w                        Fortune Sound Club\n",
       "8            Not available                 Sharon Hope United Church\n",
       "9   XiB81iBFwkyOowO6ENSkqQ                    Rum Runners Music Hall\n",
       "10           Not available                  Meridian Central Station\n",
       "11  e7ZUzqBL4UWDUksspMBuUA                   Century Casino Edmonton\n",
       "12  w7oavNpCB9O0b3sE9fgK1Q  The Elgin & Winter Garden Theatre Centre\n",
       "13           Not available                           Village Studios\n",
       "14  z8u6tnpL70UNr1CvS9PS7g                                   Le Club\n",
       "15  4ton1e2nBAg-ILdWezGAXQ                        Capitole de Québec\n",
       "16  7YYrZ9LgjpKLTtF-huhJug                          Scotiabank Arena\n",
       "17  gM9MdaKczcK4jjNgCOB84Q                      Canadian Tire Centre\n",
       "18  Rz0w7gqria2kjLL6G8Ea0g                              Rogers Place\n",
       "19  fAczVm0LU-mmIPRz1VIIYA                     Scotiabank Saddledome\n",
       "20  HtJPAQlsyT3iIa26TfOXlA                               Bell Centre"
      ]
     },
     "execution_count": 2,
     "metadata": {},
     "output_type": "execute_result"
    }
   ],
   "source": [
    "Business_df=pd.read_csv('Business_info.csv')\n",
    "Business_df"
   ]
  },
  {
   "cell_type": "code",
   "execution_count": 3,
   "id": "5dd754bc-f357-46b9-94e7-6bcbd1a2f87d",
   "metadata": {},
   "outputs": [
    {
     "name": "stdout",
     "output_type": "stream",
     "text": [
      "Error: 400, {\"error\": {\"code\": \"VALIDATION_ERROR\", \"description\": \"'Not available' is not a 'business-id-or-alias'\", \"field\": \"business_id\", \"instance\": \"Not available\"}}\n",
      "Error: 400, {\"error\": {\"code\": \"VALIDATION_ERROR\", \"description\": \"'Not available' is not a 'business-id-or-alias'\", \"field\": \"business_id\", \"instance\": \"Not available\"}}\n",
      "Error: 400, {\"error\": {\"code\": \"VALIDATION_ERROR\", \"description\": \"'Not available' is not a 'business-id-or-alias'\", \"field\": \"business_id\", \"instance\": \"Not available\"}}\n",
      "200\n"
     ]
    }
   ],
   "source": [
    "# ratings=[]\n",
    "# for index, row in Business_df.iterrows():\n",
    "#     id=row['business_id']\n",
    "#     res_review=get_reviews(id,Yelp_key)\n",
    "#     if res_review.status_code == 200:\n",
    "#         review = res_review.json()\n",
    "#        # Check if 'reviews' key exists in the JSON response and if it's not empty\n",
    "#         if 'reviews' in review :\n",
    "#            ratings.append(review) # to keep list of reviews for each venue\n",
    "#             #dump data into json file\n",
    "#            with open(f'ratings_yelp1.json', 'w') as f: \n",
    "#                  json.dump(ratings, f) \n",
    "#         else:\n",
    "#             business_id.append('Not available')\n",
    "#             business_name.append(name)\n",
    "#     else:\n",
    "#          print(f\"Error: {res_review.status_code}, {res_review.text}\")\n",
    "#          ratings.append('Not available') # for venues with no business id available\n",
    "\n",
    "# print(res_review.status_code)"
   ]
  },
  {
   "cell_type": "code",
   "execution_count": null,
   "id": "60aa5e89-2352-411d-b5d6-308e356e6dea",
   "metadata": {},
   "outputs": [],
   "source": []
  }
 ],
 "metadata": {
  "kernelspec": {
   "display_name": "Python 3 (ipykernel)",
   "language": "python",
   "name": "python3"
  },
  "language_info": {
   "codemirror_mode": {
    "name": "ipython",
    "version": 3
   },
   "file_extension": ".py",
   "mimetype": "text/x-python",
   "name": "python",
   "nbconvert_exporter": "python",
   "pygments_lexer": "ipython3",
   "version": "3.12.1"
  }
 },
 "nbformat": 4,
 "nbformat_minor": 5
}
