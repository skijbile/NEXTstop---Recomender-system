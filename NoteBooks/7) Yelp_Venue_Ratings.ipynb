{
 "cells": [
  {
   "cell_type": "markdown",
   "id": "93268fce-5fee-4a02-89f5-7654dd438b9a",
   "metadata": {},
   "source": [
    "##### In this notebook we load the json file from yelp API with the reviews and ratings information and the Business_info.csv containing id and name \n",
    "##### The json is parsed to create a new df with all the information :\n",
    "            venue\n",
    "            venue_id\n",
    "            reviews\n",
    "            ratings      \n",
    " "
   ]
  },
  {
   "cell_type": "code",
   "execution_count": null,
   "id": "6a777469-4dc3-43c8-a054-8e1e4ac3d61f",
   "metadata": {},
   "outputs": [],
   "source": [
    "import pandas as pd\n",
    "import json"
   ]
  },
  {
   "cell_type": "code",
   "execution_count": null,
   "id": "dbcf8c78-0425-4500-ad6a-3b8360719b21",
   "metadata": {},
   "outputs": [],
   "source": [
    "with open('ratings_yelp1.json','r') as f:\n",
    "    ratings_yelp1=json.load(f)\n",
    "\n"
   ]
  },
  {
   "cell_type": "code",
   "execution_count": null,
   "id": "8b0a056f-1953-4ef8-8cb3-baafbf3bb1bc",
   "metadata": {},
   "outputs": [],
   "source": [
    "Business_df=pd.read_csv('Business_info.csv')\n",
    "Business_df"
   ]
  },
  {
   "cell_type": "code",
   "execution_count": null,
   "id": "4fdbfed2-523b-4ffb-9078-3a150c0a4305",
   "metadata": {},
   "outputs": [],
   "source": [
    "\"\"\"\n",
    "columns required from the json\n",
    "reviews-text, rating\n",
    "\"\"\""
   ]
  },
  {
   "cell_type": "code",
   "execution_count": null,
   "id": "ed5a3c5a-a6ed-4b12-b979-93785285666e",
   "metadata": {},
   "outputs": [],
   "source": [
    "ratings_yelp1[1]['reviews']#[0]['id'] #see the format of json"
   ]
  },
  {
   "cell_type": "code",
   "execution_count": null,
   "id": "4c58a420-c80c-431b-b586-32f6ffd3aed6",
   "metadata": {
    "scrolled": true
   },
   "outputs": [],
   "source": [
    "review=[]\n",
    "ratings=[]\n",
    "venue_name=[]\n",
    "venue_id=[]\n",
    "city=[]\n",
    "for index, row in Business_df.iterrows():\n",
    "    # Get the business ID from the current row\n",
    "    if row['business_id'] != 'Not available':\n",
    "    \n",
    "    # Search for the corresponding rating in the ratings JSON data\n",
    "        for review_item in ratings_yelp1:\n",
    "    \n",
    "            if 'reviews' in review_item :\n",
    "                \n",
    "                 for item in review_item['reviews']:\n",
    "                     \n",
    "\n",
    "                    if 'text' in item:\n",
    "                        review.append(item['text'])\n",
    "                    else:\n",
    "                        review.append('N/A')\n",
    "\n",
    "                    if 'rating' in item:\n",
    "                        ratings.append(item['rating'])\n",
    "                    else:\n",
    "                        ratings.append('N/A')\n",
    "                \n",
    "                    venue_name.append(row.iloc[1])\n",
    "                    venue_id.append(row.iloc[0])\n",
    "                    city.append(row.iloc[2])\n",
    "            # else:\n",
    "            #     review.append('Not available')\n",
    "            #     ratings.append('Not available')\n",
    "            #     venue_name.append(row.iloc[1])\n",
    "            #     venue_id.append(row.iloc[0])\n",
    "            #     city.append(row.iloc[2])\n",
    "    else:\n",
    "            review.append('N/A')\n",
    "            ratings.append('N/A')\n",
    "            venue_name.append(row.iloc[1])\n",
    "            venue_id.append(row.iloc[0])\n",
    "            city.append(row.iloc[2])\n",
    "\n",
    "df=pd.DataFrame({'venue':venue_name,\n",
    "                 'venue_id':venue_id,\n",
    "                 'city':city,\n",
    "                 'reviews':review,\n",
    "                 'ratings':ratings})\n",
    "df\n",
    "    "
   ]
  },
  {
   "cell_type": "code",
   "execution_count": null,
   "id": "6aef5129-d51f-4583-b019-ef6b62c35265",
   "metadata": {},
   "outputs": [],
   "source": [
    "df=df.drop_duplicates()\n",
    "df.shape"
   ]
  },
  {
   "cell_type": "code",
   "execution_count": null,
   "id": "5cbca42d-e801-4f51-95bb-3ea8207ed96b",
   "metadata": {},
   "outputs": [],
   "source": [
    "df.to_csv('Venue_Ratings.csv',index=False)"
   ]
  },
  {
   "cell_type": "code",
   "execution_count": null,
   "id": "479d1819-df06-4360-9628-7a871f323b82",
   "metadata": {},
   "outputs": [],
   "source": []
  },
  {
   "cell_type": "code",
   "execution_count": null,
   "id": "07188dd7-f887-47cd-a494-4930d38c78b6",
   "metadata": {},
   "outputs": [],
   "source": []
  }
 ],
 "metadata": {
  "kernelspec": {
   "display_name": "Python 3 (ipykernel)",
   "language": "python",
   "name": "python3"
  },
  "language_info": {
   "codemirror_mode": {
    "name": "ipython",
    "version": 3
   },
   "file_extension": ".py",
   "mimetype": "text/x-python",
   "name": "python",
   "nbconvert_exporter": "python",
   "pygments_lexer": "ipython3",
   "version": "3.11.5"
  }
 },
 "nbformat": 4,
 "nbformat_minor": 5
}
