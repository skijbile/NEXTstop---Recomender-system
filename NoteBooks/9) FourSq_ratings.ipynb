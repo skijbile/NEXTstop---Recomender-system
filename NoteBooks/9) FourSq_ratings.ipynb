{
 "cells": [
  {
   "cell_type": "markdown",
   "id": "de262cc2-5f30-4cd4-b756-f33890898062",
   "metadata": {},
   "source": [
    "##### This notebook loads the places data sourced from the FourSquare API\n",
    "##### It uses the following columns from that data :\n",
    "        POI\n",
    "        Address\n",
    "        City\n",
    "        State\n",
    "##### We use these columns as parameter to get a business match from yelp API to get an ID \n",
    "##### This information is used to get ratings and reviews for that business from the yelp reviews endpoint\n",
    "##### This data is parsed and created into a new df1 and saved to FourSq.csv\n",
    "    "
   ]
  },
  {
   "cell_type": "code",
   "execution_count": null,
   "id": "e4c433c1-2c83-4a2c-aaa0-7cc49d315838",
   "metadata": {},
   "outputs": [],
   "source": [
    "import pandas as pd\n",
    "import numpy as np\n",
    "import json\n",
    "from get_data_API import get_business_match\n",
    "from get_data_API import get_reviews\n",
    "import os\n",
    "Yelp_key=os.getenv('Yelp_API')\n",
    "Yelp_key_MR=os.getenv('Yelp_API(MR)')\n"
   ]
  },
  {
   "cell_type": "code",
   "execution_count": null,
   "id": "9bbb5bfd-d9c0-41be-8fb2-cfc6b421b622",
   "metadata": {},
   "outputs": [],
   "source": [
    "get_reviews"
   ]
  },
  {
   "cell_type": "code",
   "execution_count": null,
   "id": "064a17ea-ece3-4581-b316-ed5f062ff612",
   "metadata": {
    "scrolled": true
   },
   "outputs": [],
   "source": [
    "foursq_df=pd.read_csv('FourSq_data.csv')\n",
    "foursq_df.head()"
   ]
  },
  {
   "cell_type": "code",
   "execution_count": null,
   "id": "beddecc8-2dfd-4f18-b3cc-b0e56b04329e",
   "metadata": {},
   "outputs": [],
   "source": [
    "# map the states and make the changes in place in the data frame\n",
    "\n",
    "state_mapping = {\n",
    "    'Ontario': 'ON',\n",
    "    'Alberta':'AB',\n",
    "    'British Columbia':'BC',\n",
    "    'Manitoba':'MB',\n",
    "    'Saskatchewan':'SK',\n",
    "    'New Brunswick':'NB',\n",
    "    'Newfoundland and Labrador':'NL',\n",
    "    'Prince Edward Island':'PEI',\n",
    "    'Nova Scotia':'NS',\n",
    "    'Quebec':'QC'\n",
    "}\n",
    "\n",
    "foursq_df['State'] = foursq_df['State'].map(state_mapping).fillna(foursq_df['State'])\n"
   ]
  },
  {
   "cell_type": "code",
   "execution_count": null,
   "id": "44379202-2fd4-4cc9-87f6-cf9fbc7df948",
   "metadata": {},
   "outputs": [],
   "source": [
    "# Filter rows where 'POI' column is not NaN\n",
    "filtered_df = foursq_df[foursq_df['POI'].notna()]\n",
    "filtered_df.head()\n",
    "#filtered_df.shape"
   ]
  },
  {
   "cell_type": "markdown",
   "id": "7ae9aeb9-38c9-4aa4-ad32-d281e043fa39",
   "metadata": {},
   "source": [
    "#### pass the POI,city,state,address from the data frame and get yelp business id "
   ]
  },
  {
   "cell_type": "markdown",
   "id": "5aed5a08-39bf-4a6d-94bd-a9e60d7e0b79",
   "metadata": {},
   "source": [
    "## Use get_business_match function to get business id on yelp to get the ratings for the POI above"
   ]
  },
  {
   "cell_type": "code",
   "execution_count": null,
   "id": "987bfa40-6704-4cb0-bcb4-e0d02258c93f",
   "metadata": {
    "scrolled": true
   },
   "outputs": [],
   "source": [
    "business_id=[]\n",
    "business_name=[]\n",
    "cities=[]\n",
    "for index, row in filtered_df.iterrows():\n",
    "    name=row['POI']\n",
    "    address=row['Address']\n",
    "    city=row['City']\n",
    "    state=row['State']\n",
    "    res_fs = get_business_match(name,address,city,state,Yelp_key_yahoo)\n",
    "    if res_fs.status_code == 200:\n",
    "        data = res_fs.json()\n",
    "        with open( f'business_fs.json','w') as f:\n",
    "             json.dump(data,f)\n",
    "       # Check if 'businesses' key exists in the JSON response and if it's not empty\n",
    "        if 'businesses' in data and len(data['businesses']) > 0:\n",
    "            business_id.append(data['businesses'][0]['id']) # only grab business id from the json\n",
    "            business_name.append(data['businesses'][0]['name']) # only grab name from json\n",
    "            cities.append(city)\n",
    "        else:\n",
    "            business_id.append('N/A')\n",
    "            business_name.append(name)\n",
    "            cities.append(city)\n",
    "    else:\n",
    "         print(f\"Error: {res_fs.status_code}, {res_fs.text}\")\n",
    "         business_id.append('N/A')\n",
    "         business_name.append(name)\n",
    "         cities.append(city)\n",
    "\n",
    "    print(city)"
   ]
  },
  {
   "cell_type": "code",
   "execution_count": null,
   "id": "e270b36a-d633-430f-8fc3-f24494a927d3",
   "metadata": {},
   "outputs": [],
   "source": []
  },
  {
   "cell_type": "code",
   "execution_count": null,
   "id": "e37c7811-0f52-423c-b551-2b28a9259947",
   "metadata": {},
   "outputs": [],
   "source": [
    "Business_df1=pd.DataFrame({'business_id':business_id,\n",
    "                        'business_name':business_name,\n",
    "                          'city': cities})\n",
    "Business_df1.to_csv('fs_business_id.csv',index=False)"
   ]
  },
  {
   "cell_type": "code",
   "execution_count": null,
   "id": "8f453eda-0ca7-4d0c-98d8-84e553357b74",
   "metadata": {},
   "outputs": [],
   "source": [
    "Business_df1.drop_duplicates().shape"
   ]
  },
  {
   "cell_type": "code",
   "execution_count": null,
   "id": "ab47bf87-a235-4c52-a58e-e723c575054f",
   "metadata": {},
   "outputs": [],
   "source": [
    "Business_df1.shape"
   ]
  },
  {
   "cell_type": "markdown",
   "id": "c5c08728-fda0-4542-a698-4ac48e0db64e",
   "metadata": {},
   "source": [
    "## Use the business_id information to get ratings from get_reviews function "
   ]
  },
  {
   "cell_type": "code",
   "execution_count": null,
   "id": "7bb928e1-fd53-4b3e-8a10-9f79351a367e",
   "metadata": {
    "scrolled": true
   },
   "outputs": [],
   "source": [
    "ratings=[]\n",
    "for index, row in Business_df1.iterrows():\n",
    "    id=row['business_id']\n",
    "    \n",
    "    res_review=get_reviews(id,Yelp_key)\n",
    "    print(index)\n",
    "    if res_review.status_code == 200:\n",
    "            review = res_review.json()\n",
    "           # Check if 'reviews' key exists in the JSON response and if it's not empty\n",
    "            if 'reviews' in review :\n",
    "               ratings.append(review) # to keep list of reviews for each venue\n",
    "                #dump data into json file\n",
    "               with open(f'fs_ratings_yelp.json', 'w') as f: \n",
    "                 json.dump(ratings, f) \n",
    "            else:\n",
    "                business_id.append('N/A')\n",
    "                business_name.append(name)\n",
    "    else:\n",
    "             print(f\"Error: {res_review.status_code}, {res_review.text}\")\n",
    "             ratings.append('N/A') # for venues with no business id available\n",
    "\n",
    "print(\"Stopped at= \",index)"
   ]
  },
  {
   "cell_type": "markdown",
   "id": "142088ca-c671-4b20-aca6-6649314e7abf",
   "metadata": {},
   "source": [
    "## Parse through the json fs_ratings_yelp2 to get a data frame of reviews and ratings details"
   ]
  },
  {
   "cell_type": "code",
   "execution_count": null,
   "id": "63c1573a-5a6d-4390-9c79-f3b04bfd2a50",
   "metadata": {},
   "outputs": [],
   "source": [
    "with open ('fs_ratings_yelp.json','r') as f:\n",
    "    fs_ratings=json.load(f)\n",
    "\n",
    "\n"
   ]
  },
  {
   "cell_type": "code",
   "execution_count": null,
   "id": "9bb8d61b-e762-416d-94ac-f6a7fa5038c6",
   "metadata": {},
   "outputs": [],
   "source": [
    "review=[]\n",
    "ratings=[]\n",
    "venue_name=[]\n",
    "venue_id=[]\n",
    "city=[]"
   ]
  },
  {
   "cell_type": "code",
   "execution_count": null,
   "id": "5023f123-692b-41d4-b492-1ccecf30e8f5",
   "metadata": {},
   "outputs": [],
   "source": [
    "for index, row in Business_df1.iterrows():\n",
    "       \n",
    "    # Get the business ID from the current row\n",
    "        if row['business_id'] != 'N/A':\n",
    "    \n",
    "        # Search for the corresponding rating in the ratings JSON data\n",
    "            for review_item in fs_ratings:\n",
    "    \n",
    "                if 'reviews' in review_item :\n",
    "                \n",
    "                     for item in review_item['reviews']:\n",
    "                     \n",
    "\n",
    "                        if 'text' in item:\n",
    "                            review.append(item['text'])\n",
    "                        else:\n",
    "                            review.append('N/A')\n",
    "\n",
    "                        if 'rating' in item:\n",
    "                            ratings.append(item['rating'])\n",
    "                        else:\n",
    "                            ratings.append('N/A')\n",
    "                \n",
    "                        venue_name.append(row.iloc[1])\n",
    "                        venue_id.append(row.iloc[0])\n",
    "                        city.append(row.iloc[2])\n",
    "            \n",
    "        else:\n",
    "            review.append('N/A')\n",
    "            ratings.append('N/A')\n",
    "            venue_name.append(row.iloc[1])\n",
    "            venue_id.append(row.iloc[0])\n",
    "            city.append(row.iloc[2])"
   ]
  },
  {
   "cell_type": "code",
   "execution_count": null,
   "id": "597cbae3-f6a6-48c7-a6c9-134ba5a9043e",
   "metadata": {
    "scrolled": true
   },
   "outputs": [],
   "source": [
    "    \n",
    "df1=pd.DataFrame({'venue':venue_name,\n",
    "                 'venue_id':venue_id,\n",
    "                  'city':city,\n",
    "                 'reviews':review,\n",
    "                 'ratings':ratings})\n",
    "df1\n",
    "    "
   ]
  },
  {
   "cell_type": "code",
   "execution_count": null,
   "id": "51cf66d8-a46e-4b8f-82c3-b39862c0301b",
   "metadata": {},
   "outputs": [],
   "source": [
    "df1.drop_duplicates(inplace=True)"
   ]
  },
  {
   "cell_type": "code",
   "execution_count": null,
   "id": "f2489ccf-8548-4627-accf-f5aa29389f9c",
   "metadata": {},
   "outputs": [],
   "source": [
    "df1.to_csv('FourSq_ratings.csv',index=False)"
   ]
  },
  {
   "cell_type": "code",
   "execution_count": null,
   "id": "ba98cba9-04fd-4edc-9e86-13e8490f1e6d",
   "metadata": {},
   "outputs": [],
   "source": []
  }
 ],
 "metadata": {
  "kernelspec": {
   "display_name": "Python 3 (ipykernel)",
   "language": "python",
   "name": "python3"
  },
  "language_info": {
   "codemirror_mode": {
    "name": "ipython",
    "version": 3
   },
   "file_extension": ".py",
   "mimetype": "text/x-python",
   "name": "python",
   "nbconvert_exporter": "python",
   "pygments_lexer": "ipython3",
   "version": "3.11.5"
  }
 },
 "nbformat": 4,
 "nbformat_minor": 5
}
