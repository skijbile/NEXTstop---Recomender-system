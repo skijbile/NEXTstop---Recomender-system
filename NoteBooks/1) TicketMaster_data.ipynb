{
 "cells": [
  {
   "cell_type": "markdown",
   "id": "c8967fb4-30f2-4bf3-88a8-dd4ffaf6a0aa",
   "metadata": {},
   "source": [
    "##### This notebook call the Ticket Master API and save the data in a json file"
   ]
  },
  {
   "cell_type": "markdown",
   "id": "9c36e998-5771-44d9-94b9-5af0f798db51",
   "metadata": {},
   "source": [
    "# Ticket Master API- Discovery API"
   ]
  },
  {
   "cell_type": "code",
   "execution_count": null,
   "id": "adbc7548-2088-4073-9cb1-ff19389daae1",
   "metadata": {},
   "outputs": [],
   "source": [
    "#import required libraries\n",
    "import requests # this will be used to call the APIs\n",
    "import json     # to save data to a json_file\n",
    "import pandas as pd \n",
    "import os       # use this to access enviornment variable\n",
    "from get_data_API import get_events\n",
    "\n",
    "\n",
    "TicketMaster_key= os.getenv(\"TicketMasterAPI\")\n",
    "TM_key=os.getenv(\"TM_yahoo\")\n"
   ]
  },
  {
   "cell_type": "markdown",
   "id": "17a6c84e-7cc2-44a4-b00b-c78c7de019f0",
   "metadata": {},
   "source": [
    "## Event Search for Canada\n",
    "#### use the URL to get events based on the query parameter of countryCode-Canada"
   ]
  },
  {
   "cell_type": "code",
   "execution_count": null,
   "id": "b906399b-dfa8-463d-a0f2-f2eb4a138eeb",
   "metadata": {},
   "outputs": [],
   "source": [
    "# define variables for the required data\n",
    "country_code=\"CA\" # code for Canada to get events\n",
    "endpoint= '/discovery/v2/events' #endpoint to get event_ID\n",
    "segment =[\"Music\"] # use different segments (music,arts,sports,theatre)\n",
    "\n"
   ]
  },
  {
   "cell_type": "code",
   "execution_count": null,
   "id": "cab21163-9ae5-4112-9597-cddf8324ac7b",
   "metadata": {
    "scrolled": true
   },
   "outputs": [],
   "source": [
    "res= get_events(endpoint,TM_key,country_code,segment,100) # initial page number is 0\n",
    "res.status_code"
   ]
  },
  {
   "cell_type": "code",
   "execution_count": null,
   "id": "6fbc5c8a-07fa-42ef-b37c-17322a4b6124",
   "metadata": {},
   "outputs": [],
   "source": [
    "# to check the number of pages of data\n",
    "if res.status_code==200:\n",
    "        events_data= res.json()\n",
    "        if 'page' in events_data and 'totalPages' in events_data['page']:\n",
    "            total_pages = events_data['page']['totalPages']\n",
    "\n",
    "total_pages"
   ]
  },
  {
   "cell_type": "code",
   "execution_count": null,
   "id": "00b62440-c345-49e3-9e77-a9c4d72a2687",
   "metadata": {
    "scrolled": true
   },
   "outputs": [],
   "source": [
    "events=[] # empty list to add each json file as an object\n",
    "# to keep track of iterations use page_number\n",
    "id=1000 # to label the json files \n",
    "\n",
    "# to give correct outputs and save the data as json file \n",
    "# call the function to get data\n",
    "\n",
    "if res.status_code==200:\n",
    "        events_data= res.json()\n",
    "        if 'page' in events_data and 'totalPages' in events_data['page']:\n",
    "            total_pages = events_data['page']['totalPages']\n",
    "    \n",
    "            for page_number in range(1000,total_pages):\n",
    "                \n",
    "                response = get_events(endpoint,TM_key, country_code, segment, page_number)\n",
    "                data = response.json()\n",
    "\n",
    "                if '_embedded' in data and 'events' in data[\"_embedded\"]:\n",
    "                    events.extend(data['_embedded']['events']) # adding data to existing list (empty or old data)\n",
    "                 # Append events to the JSON file\n",
    "                    #change file name for different parameter setting for segment or country etc. \n",
    "                    \n",
    "                    with open(f'Events_{id}.json', 'w') as f: \n",
    "                                json.dump(events, f)\n",
    "                    id+=1\n",
    "                    print(\"Pages processed = \", page_number)\n",
    "                else:\n",
    "                    print(f\"Error: No events found on page {page_number}\")\n",
    "\n",
    "           \n",
    "\n",
    "        print(\"END of list\") # to know end of iteration\n",
    "        \n",
    "else:\n",
    "    print(f\"Error: {res.status_code}, {res.text}\")\n",
    "    \n",
    "\n",
    "  \n",
    "    "
   ]
  },
  {
   "cell_type": "code",
   "execution_count": null,
   "id": "c6204f15-3561-45f4-bc87-81747f0d8d1f",
   "metadata": {},
   "outputs": [],
   "source": [
    "# final dump to get it all in one file\n",
    "#change variable name for change of segment\n",
    "with open(f'Events_music.json', 'w') as f:\n",
    "     json.dump(events, f)\n",
    " "
   ]
  },
  {
   "cell_type": "code",
   "execution_count": null,
   "id": "6895a799-2146-4b34-98c0-8e3068d17fe5",
   "metadata": {},
   "outputs": [],
   "source": []
  }
 ],
 "metadata": {
  "kernelspec": {
   "display_name": "Python 3 (ipykernel)",
   "language": "python",
   "name": "python3"
  },
  "language_info": {
   "codemirror_mode": {
    "name": "ipython",
    "version": 3
   },
   "file_extension": ".py",
   "mimetype": "text/x-python",
   "name": "python",
   "nbconvert_exporter": "python",
   "pygments_lexer": "ipython3",
   "version": "3.11.5"
  }
 },
 "nbformat": 4,
 "nbformat_minor": 5
}
